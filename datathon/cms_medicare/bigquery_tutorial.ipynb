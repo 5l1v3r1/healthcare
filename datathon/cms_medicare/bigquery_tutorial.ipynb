{
  "nbformat": 4,
  "nbformat_minor": 0,
  "metadata": {
    "colab": {
      "name": "CMS Medicare Tutorial",
      "version": "0.3.2",
      "provenance": [],
      "collapsed_sections": []
    }
  },
  "cells": [
    {
      "metadata": {
        "id": "6fr_A5J1tVFQ",
        "colab_type": "text"
      },
      "cell_type": "markdown",
      "source": [
        "Copyright 2018 Google Inc.\n",
        "\n",
        "Licensed under the Apache License, Version 2.0 (the \"License\"); you may not use this file except in compliance with the License. You may obtain a copy of the License at\n",
        "\n",
        "> https://www.apache.org/licenses/LICENSE-2.0\n",
        "\n",
        "Unless required by applicable law or agreed to in writing, software distributed under the License is distributed on an \"AS IS\" BASIS, WITHOUT WARRANTIES OR CONDITIONS OF ANY KIND, either express or implied. See the License for the specific language governing permissions and limitations under the License."
      ]
    },
    {
      "metadata": {
        "id": "QT2sukPDtrWQ",
        "colab_type": "text"
      },
      "cell_type": "markdown",
      "source": [
        "# Datathon Tutorial\n",
        "\n",
        "The aim of this tutorial is to get you familiarized with BigQuery to query/filter/aggregate/export data with Python.\n",
        "\n",
        "## Prerequisites\n",
        "\n",
        "You will need to have a valid Google account to be able to log in to Google Cloud Platform. If you do not have one, you can create one at https://accounts.google.com. If you will be also accessing restricted datasets, you may need to notify datathon organizers to register your account for data access."
      ]
    },
    {
      "metadata": {
        "id": "xks2nlrtt-um",
        "colab_type": "text"
      },
      "cell_type": "markdown",
      "source": [
        "## Setup\n",
        "\n",
        "To be able to run the queries in this tutorial, you need to create a copy of this Colab notebook by clicking \"File\" > \"Save a copy in Drive...\" menu.\n",
        "You can share your copy with your teammates by clicking on the \"SHARE\" button on the top-right corner of your Colab notebook copy. Everyone with \"Edit\" permission is able to modify the notebook at the same time, so it is a great way for team collaboration. Before running any cell in this colab, please make sure there is a green check mark before \"CONNECTED\" on top right corner, if not, please click \"CONNECTED\" button to connect to a random backend.\n",
        "\n",
        "Now that you have done the initial setup, let us start playing with the data. First, you need to run some initialization code. You can run the following cell by clicking on the triangle button when you hover over the [ ] space on the top-left corner of the code cell below."
      ]
    },
    {
      "metadata": {
        "id": "rS9g4-r7uohe",
        "colab_type": "code",
        "colab": {}
      },
      "cell_type": "code",
      "source": [
        "# Import libraries\n",
        "import numpy as np\n",
        "import os\n",
        "import pandas as pd\n",
        "import matplotlib.pyplot as plt\n",
        "import matplotlib.patches as patches\n",
        "import matplotlib.path as path\n",
        "\n",
        "# Below imports are used to print out pretty pandas dataframes\n",
        "from IPython.display import display, HTML\n",
        "\n",
        "# Imports for accessing Datathon data using Google BigQuery.\n",
        "from google.colab import auth\n",
        "from google.cloud import bigquery"
      ],
      "execution_count": 0,
      "outputs": []
    },
    {
      "metadata": {
        "id": "rlP2b-PKvUMk",
        "colab_type": "text"
      },
      "cell_type": "markdown",
      "source": [
        "Before running any queries using BigQuery, you need to first authenticate yourself by running the following cell. If you are running it for the first time, it will ask you to follow a link to log in using your Gmail account, and accept the data access requests to your profile. Once this is done, it will generate a string of verification code, which you should paste back to the cell below and press enter."
      ]
    },
    {
      "metadata": {
        "id": "HDL3CjUKvddl",
        "colab_type": "code",
        "colab": {}
      },
      "cell_type": "code",
      "source": [
        "auth.authenticate_user()"
      ],
      "execution_count": 0,
      "outputs": []
    },
    {
      "metadata": {
        "id": "0qezUBvxH7_6",
        "colab_type": "text"
      },
      "cell_type": "markdown",
      "source": [
        "The data-hosting project `bigquery-public-data` has read-only access, as a result, you need to set a default project that you have BigQuery access to. A shared project should be created by the event organizers, and we will be using it throughout this tutorial.\n",
        "\n",
        "Note that during the datathon, all participants will be divided into teams and a Google Cloud project will be created for each team specifically. That project would be the preferred project to use. For now we'll stick with the shared project for the purpose of the tutorial.\n",
        "\n",
        "After datathon is finished, the shared project may either lock down access or be deleted, it's still possible to run queries from a project you own personally as long as you have access to the dataset hosting project.\n",
        "\n",
        "Change the variable project_id below to list the project you are using."
      ]
    },
    {
      "metadata": {
        "id": "nx4ZDlJ6we9j",
        "colab_type": "code",
        "colab": {}
      },
      "cell_type": "code",
      "source": [
        "project_id='REPLACE_WITH_PROJECT_ID'\n",
        "os.environ[\"GOOGLE_CLOUD_PROJECT\"]=project_id"
      ],
      "execution_count": 0,
      "outputs": []
    },
    {
      "metadata": {
        "id": "ZondovXiw-zq",
        "colab_type": "text"
      },
      "cell_type": "markdown",
      "source": [
        "Let's define a few methods to wrap BigQuery operations, so that we don't have to write the configurations again and again."
      ]
    },
    {
      "metadata": {
        "id": "DIbbCE3YxLdM",
        "colab_type": "code",
        "colab": {}
      },
      "cell_type": "code",
      "source": [
        "# Read data from BigQuery into pandas dataframes.\n",
        "def run_query(query):\n",
        "  return pd.io.gbq.read_gbq(query, project_id=project_id, verbose=False, configuration={'query':{'useLegacySql': False}})"
      ],
      "execution_count": 0,
      "outputs": []
    },
    {
      "metadata": {
        "id": "VDfGS-0VxjpC",
        "colab_type": "text"
      },
      "cell_type": "markdown",
      "source": [
        "OK, that's it for setup, now let's get our hands on the CMS Medicare public data!"
      ]
    },
    {
      "metadata": {
        "id": "7wh4aG6fRubd",
        "colab_type": "text"
      },
      "cell_type": "markdown",
      "source": [
        "## Analysis\n",
        "\n",
        "Let's now run some queries.\n",
        "\n",
        "First let's run the following query to produce data to generate a histogram graph to show the cost of heart transplants & implants in 2015 in ten thousand dollar buckets (i.e. 12=12,000-13000, 13=13,000-14,000, ...)."
      ]
    },
    {
      "metadata": {
        "id": "0BKEaZ0mAS_a",
        "colab_type": "code",
        "colab": {}
      },
      "cell_type": "code",
      "source": [
        "df = run_query('''\n",
        "WITH costs AS (\n",
        "  SELECT\n",
        "    CAST(FLOOR(average_medicare_payments / 10000) AS INT64) AS average_cost_bucket_in_ten_thousands\n",
        "    FROM `bigquery-public-data.cms_medicare.inpatient_charges_2015`\n",
        "    WHERE drg_definition = '001 - HEART TRANSPLANT OR IMPLANT OF HEART ASSIST SYSTEM W MCC')\n",
        "SELECT\n",
        "  COUNT(average_cost_bucket_in_ten_thousands) AS number_of_procedures,\n",
        "  average_cost_bucket_in_ten_thousands\n",
        "  FROM costs\n",
        "  GROUP BY average_cost_bucket_in_ten_thousands\n",
        "  ORDER BY average_cost_bucket_in_ten_thousands ASC\n",
        "''')\n",
        "\n",
        "df.set_index('average_cost_bucket_in_ten_thousands').plot(title='costs',kind='bar',legend=False)"
      ],
      "execution_count": 0,
      "outputs": []
    },
    {
      "metadata": {
        "id": "v1IquJ4LTQzi",
        "colab_type": "text"
      },
      "cell_type": "markdown",
      "source": [
        "This consists of 3 parts:\n",
        "\n",
        "1.   First we retrieve the costs of heart transplants and round the costs down to the closest $10,000 range, which is saved in a temporary table `costs`\n",
        "2.   The result data is filtered to include only the information required, the cost bucket and the number of procedures in each bucket. This is stored in a pandas dataframe.\n",
        "3.   We plot the chart from the dataframe."
      ]
    },
    {
      "metadata": {
        "id": "dtoC3w63BcIV",
        "colab_type": "text"
      },
      "cell_type": "markdown",
      "source": [
        "Congratulations! Now you have finished this datathon tutorial, and ready to explore more data by querying Google BigQuery. To do so, simply replace `bigquery-public-data.cms_medicare` with the project and dataset name you are interested in. One thing to note though, is that it is highly recommended to aggregate data aggressively wherever possible, because large dataframes may cause the performance of colab to drop drastically or even out of memory errors.\n"
      ]
    },
    {
      "metadata": {
        "id": "akiFriVABdPk",
        "colab_type": "text"
      },
      "cell_type": "markdown",
      "source": [
        "Enjoy!"
      ]
    }
  ]
}