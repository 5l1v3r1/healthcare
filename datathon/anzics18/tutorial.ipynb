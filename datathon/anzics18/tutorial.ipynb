{
  "nbformat": 4,
  "nbformat_minor": 0,
  "metadata": {
    "colab": {
      "name": "Datathon Tutorial",
      "version": "0.3.2",
      "views": {},
      "default_view": {},
      "provenance": [],
      "collapsed_sections": []
    },
    "kernelspec": {
      "name": "python2",
      "display_name": "Python 2"
    }
  },
  "cells": [
    {
      "metadata": {
        "id": "msMUolQYBLgL",
        "colab_type": "text"
      },
      "cell_type": "markdown",
      "source": [
        "Copyright 2018 Google Inc.\n",
        "\n",
        "Licensed under the Apache License, Version 2.0 (the \"License\");\n",
        "you may not use this file except in compliance with the License.\n",
        "You may obtain a copy of the License at\n",
        "\n",
        "> https://www.apache.org/licenses/LICENSE-2.0\n",
        "\n",
        "Unless required by applicable law or agreed to in writing, software\n",
        "distributed under the License is distributed on an \"AS IS\" BASIS,\n",
        "WITHOUT WARRANTIES OR CONDITIONS OF ANY KIND, either express or implied.\n",
        "See the License for the specific language governing permissions and\n",
        "limitations under the License.\n"
      ]
    },
    {
      "metadata": {
        "id": "xQ5UILzbD25T",
        "colab_type": "text"
      },
      "cell_type": "markdown",
      "source": [
        "# Datathon Tutorial\n",
        "\n",
        "Welcome to the MIMIC/eICU/ANZICS Datathon! This [Colab](https://colab.research.google.com)-based tutorial will guide you through the working environment for accessing the dataset and get you familiarized with analyzing demo medical data in Google Cloud.\n",
        "\n",
        "## Initial Setup\n",
        "Here are the prerequisites for running all examples in this tutorial\n",
        "\n",
        "* You MUST visit https://mimic.physionet.org/gettingstarted/demo/ and accept the terms and conditions for using MIMIC-III demo data to run the queries in this tutorial.\n",
        "* You should already have had a valid Gmail account registered with the datathon organizers, and have been assigned a team.\n",
        "  * If you do not have a Gmail account, you can create one at http://www.gmail.com. You need to notify [datathon organizers](mailto:sydney-datathon-2018-organizers@googlegroups.com) to register your new account for data access.\n",
        "  * If you are not taking part in a MIMIC datathon, but do have MIMIC-III demo data access already, you may request to join [this Google Group](https://groups.google.com/forum/#!forum/mimic-demo-users) to run queries in this Colab notebook.\n",
        "* To be able to run the queries in this tutorial, you need to create a copy of this Colab notebook by clicking \"File\" -> \"Save a copy in Drive...\" menu.\n",
        "  * You can share your copy with your teammates by clicking on the \"SHARE\" button on the top-right corner of your Colab notebook copy. Everyone with \"Edit\" permission is able to modify the notebook at the same time, so it is a great way for team collaboration.\n",
        "\n",
        "Now that you have done the initial setup, let us start playing with the data. First, you need to run some initialization code. You can run the following cell by clicking on the triangle button when you hover over the `[ ]` space on the top-left corner of the code cell below."
      ]
    },
    {
      "metadata": {
        "id": "ISLUFumhCY2Y",
        "colab_type": "code",
        "colab": {
          "autoexec": {
            "startup": false,
            "wait_interval": 0
          }
        }
      },
      "cell_type": "code",
      "source": [
        "# Import libraries\n",
        "import numpy as np\n",
        "import os\n",
        "import pandas as pd\n",
        "import matplotlib.pyplot as plt\n",
        "import matplotlib.patches as patches\n",
        "import matplotlib.path as path\n",
        "import tensorflow as tf\n",
        "\n",
        "# Below imports are used to print out pretty pandas dataframes\n",
        "from IPython.display import display, HTML\n",
        "\n",
        "# Imports for accessing Datathon data using Google BigQuery.\n",
        "from google.colab import auth\n",
        "from google.cloud import bigquery"
      ],
      "execution_count": 0,
      "outputs": []
    },
    {
      "metadata": {
        "id": "ReqG66PzECCg",
        "colab_type": "text"
      },
      "cell_type": "markdown",
      "source": [
        "Before running any queries using BigQuery, you need to first authenticate yourself by running the following cell. If you are running it for the first time, it will ask you to follow a link to log in using your Gmail account, and accept the data access requests to your profile. Once this is done, it will generate a string of verification code, which you should paste back to the cell below and press enter."
      ]
    },
    {
      "metadata": {
        "id": "BFOlLhuTE9OG",
        "colab_type": "code",
        "colab": {
          "autoexec": {
            "startup": false,
            "wait_interval": 0
          }
        }
      },
      "cell_type": "code",
      "source": [
        "auth.authenticate_user()"
      ],
      "execution_count": 0,
      "outputs": []
    },
    {
      "metadata": {
        "id": "RIEUW9MTE4eP",
        "colab_type": "text"
      },
      "cell_type": "markdown",
      "source": [
        "## Querying the MIMIC-III Demo Dataset\n",
        "\n",
        "Now we are ready to actually start following the \"Cohort Selection\" exercise adapted from the [MIMIC cohort selection tutorial on GitHub](https://github.com/MIT-LCP/mimic-code/blob/master/tutorials/cohort-selection.ipynb). Because all datasets related to this Datathon are hosted on Google Cloud, there is no need to set up a local database or bring up a local Jupyter instance. Instead, we only need to connect to a BigQuery client with the desired Google Cloud project. The MIMIC-III demo data is hosted on the \"`datathon-datasets`\" project. Let's see what datasets are available in this project. For more information about BigQuery's `Client` object (and much more), please refer to [BigQuery Documentation](https://googlecloudplatform.github.io/google-cloud-python/latest/bigquery/usage.html)."
      ]
    },
    {
      "metadata": {
        "id": "fRAIXRZcG10y",
        "colab_type": "code",
        "colab": {
          "autoexec": {
            "startup": false,
            "wait_interval": 0
          },
          "base_uri": "https://localhost:8080/",
          "height": 1259
        },
        "outputId": "0561d731-6d67-48fd-d5e9-81422746f97a",
        "executionInfo": {
          "status": "ok",
          "timestamp": 1523910992775,
          "user_tz": 240,
          "elapsed": 1069,
          "user": {
            "displayName": "Datathon Admin",
            "photoUrl": "https://lh3.googleusercontent.com/a/default-user=s128",
            "userId": "113393093228139921598"
          }
        }
      },
      "cell_type": "code",
      "source": [
        "project_id='datathon-datasets'\n",
        "os.environ[\"GOOGLE_CLOUD_PROJECT\"]=project_id\n",
        "\n",
        "client = bigquery.Client(project=project_id)\n",
        "datasets = client.list_datasets()\n",
        "for dataset in datasets:\n",
        "  did = dataset.dataset_id\n",
        "  print('Dataset \"%s\" has the following tables:' % did)\n",
        "  for table in client.list_tables(client.dataset(did)):\n",
        "    print('    ' + table.table_id)"
      ],
      "execution_count": 4,
      "outputs": [
        {
          "output_type": "stream",
          "text": [
            "Dataset \"anzics\" has the following tables:\n",
            "Dataset \"anzics_demo\" has the following tables:\n",
            "Dataset \"eicu\" has the following tables:\n",
            "    admissionDx\n",
            "    admissiondrug\n",
            "    allergy\n",
            "    apachePatientResult\n",
            "    carePlanCareProvider\n",
            "    carePlanEOL\n",
            "    carePlanGeneral\n",
            "    carePlanGoal\n",
            "    carePlanInfectiousDisease\n",
            "    diagnosis\n",
            "    hospital\n",
            "    lab\n",
            "    medication\n",
            "    pastHistory\n",
            "    patient\n",
            "    treatment\n",
            "    vitalAperiodic\n",
            "    vitalPeriodic\n",
            "Dataset \"mimic\" has the following tables:\n",
            "    admissions\n",
            "    callout\n",
            "    caregivers\n",
            "    chartevents\n",
            "    cptevents\n",
            "    d_cpt\n",
            "    d_icd_diagnoses\n",
            "    d_icd_procedures\n",
            "    d_items\n",
            "    d_labitems\n",
            "    datetimeevents\n",
            "    diagnoses_icd\n",
            "    drgcodes\n",
            "    icustays\n",
            "    inputevents_cv\n",
            "    inputevents_mv\n",
            "    labevents\n",
            "    microbiologyevents\n",
            "    outputevents\n",
            "    patients\n",
            "    prescriptions\n",
            "    procedureevents_mv\n",
            "    procedures_icd\n",
            "    services\n",
            "    transfers\n",
            "Dataset \"mimic_demo\" has the following tables:\n",
            "    admissions\n",
            "    callout\n",
            "    caregivers\n",
            "    cptevents\n",
            "    d_cpt\n",
            "    d_icd_procedures\n",
            "    d_items\n",
            "    d_labitems\n",
            "    datetimeevents\n",
            "    diagnoses_icd\n",
            "    drgcodes\n",
            "    icustays\n",
            "    labevents\n",
            "    microbiologyevents\n",
            "    outputevents\n",
            "    patients\n",
            "    prescriptions\n",
            "    procedureevents_mv\n",
            "    procedures_icd\n",
            "    services\n",
            "    transfers\n"
          ],
          "name": "stdout"
        }
      ]
    },
    {
      "metadata": {
        "id": "0qezUBvxH7_6",
        "colab_type": "text"
      },
      "cell_type": "markdown",
      "source": [
        "Another way to list all BigQuery tables in a Google Cloud Project is to go to the BigQuery site directly, e.g. https://bigquery.cloud.google.com/welcome/datathon-datasets. On the left panel, you will see the `mimic_demo` dataset, under which you will see the table names as above once you click and expand on the link.\n",
        "\n",
        "To view the details of a table, simply click on it (for example the `icustays` table). Then, on the right side of the window, you will have to option to see the [schema](https://bigquery.cloud.google.com/table/datathon-datasets:mimic_demo.icustays?tab=schema), [metadata](https://bigquery.cloud.google.com/table/datathon-datasets:mimic_demo.icustays?tab=details) and [preview of rows](https://bigquery.cloud.google.com/table/datathon-datasets:mimic_demo.icustays?tab=preview) tabs.\n",
        "\n",
        "Let's now run some queries adapted from [the MIMIC cohort selection tutorial](https://github.com/MIT-LCP/mimic-code/blob/master/tutorials/cohort-selection.ipynb).\n",
        "First, let's preview the `subject_id`, `hadm_id`, and `icustay_id` columns of the `icustays` table."
      ]
    },
    {
      "metadata": {
        "id": "SWurERZzNfeo",
        "colab_type": "code",
        "colab": {
          "autoexec": {
            "startup": false,
            "wait_interval": 0
          },
          "base_uri": "https://localhost:8080/",
          "height": 359
        },
        "outputId": "98d78f8d-dcd6-461c-ef72-bf4fd021feee",
        "executionInfo": {
          "status": "ok",
          "timestamp": 1523911007751,
          "user_tz": 240,
          "elapsed": 3915,
          "user": {
            "displayName": "Datathon Admin",
            "photoUrl": "https://lh3.googleusercontent.com/a/default-user=s128",
            "userId": "113393093228139921598"
          }
        }
      },
      "cell_type": "code",
      "source": [
        "def run_query(query):\n",
        "  return pd.io.gbq.read_gbq(query, project_id=project_id, verbose=False, configuration={'query':{'useLegacySql': False}})\n",
        "\n",
        "\n",
        "run_query('''\n",
        "SELECT\n",
        "  subject_id,\n",
        "  hadm_id,\n",
        "  icustay_id\n",
        "FROM\n",
        "  mimic_demo.icustays\n",
        "LIMIT 10\n",
        "''')"
      ],
      "execution_count": 5,
      "outputs": [
        {
          "output_type": "execute_result",
          "data": {
            "text/html": [
              "<div>\n",
              "<style scoped>\n",
              "    .dataframe tbody tr th:only-of-type {\n",
              "        vertical-align: middle;\n",
              "    }\n",
              "\n",
              "    .dataframe tbody tr th {\n",
              "        vertical-align: top;\n",
              "    }\n",
              "\n",
              "    .dataframe thead th {\n",
              "        text-align: right;\n",
              "    }\n",
              "</style>\n",
              "<table border=\"1\" class=\"dataframe\">\n",
              "  <thead>\n",
              "    <tr style=\"text-align: right;\">\n",
              "      <th></th>\n",
              "      <th>subject_id</th>\n",
              "      <th>hadm_id</th>\n",
              "      <th>icustay_id</th>\n",
              "    </tr>\n",
              "  </thead>\n",
              "  <tbody>\n",
              "    <tr>\n",
              "      <th>0</th>\n",
              "      <td>40124</td>\n",
              "      <td>146893</td>\n",
              "      <td>269173</td>\n",
              "    </tr>\n",
              "    <tr>\n",
              "      <th>1</th>\n",
              "      <td>40503</td>\n",
              "      <td>168803</td>\n",
              "      <td>293429</td>\n",
              "    </tr>\n",
              "    <tr>\n",
              "      <th>2</th>\n",
              "      <td>10124</td>\n",
              "      <td>170883</td>\n",
              "      <td>295043</td>\n",
              "    </tr>\n",
              "    <tr>\n",
              "      <th>3</th>\n",
              "      <td>43827</td>\n",
              "      <td>149950</td>\n",
              "      <td>243238</td>\n",
              "    </tr>\n",
              "    <tr>\n",
              "      <th>4</th>\n",
              "      <td>42075</td>\n",
              "      <td>151323</td>\n",
              "      <td>298685</td>\n",
              "    </tr>\n",
              "    <tr>\n",
              "      <th>5</th>\n",
              "      <td>41976</td>\n",
              "      <td>125013</td>\n",
              "      <td>213315</td>\n",
              "    </tr>\n",
              "    <tr>\n",
              "      <th>6</th>\n",
              "      <td>10088</td>\n",
              "      <td>168233</td>\n",
              "      <td>249695</td>\n",
              "    </tr>\n",
              "    <tr>\n",
              "      <th>7</th>\n",
              "      <td>40601</td>\n",
              "      <td>182879</td>\n",
              "      <td>279529</td>\n",
              "    </tr>\n",
              "    <tr>\n",
              "      <th>8</th>\n",
              "      <td>44083</td>\n",
              "      <td>131048</td>\n",
              "      <td>282640</td>\n",
              "    </tr>\n",
              "    <tr>\n",
              "      <th>9</th>\n",
              "      <td>44222</td>\n",
              "      <td>192189</td>\n",
              "      <td>238186</td>\n",
              "    </tr>\n",
              "  </tbody>\n",
              "</table>\n",
              "</div>"
            ],
            "text/plain": [
              "   subject_id  hadm_id  icustay_id\n",
              "0       40124   146893      269173\n",
              "1       40503   168803      293429\n",
              "2       10124   170883      295043\n",
              "3       43827   149950      243238\n",
              "4       42075   151323      298685\n",
              "5       41976   125013      213315\n",
              "6       10088   168233      249695\n",
              "7       40601   182879      279529\n",
              "8       44083   131048      282640\n",
              "9       44222   192189      238186"
            ]
          },
          "metadata": {
            "tags": []
          },
          "execution_count": 5
        }
      ]
    },
    {
      "metadata": {
        "id": "B86SfucMQf3C",
        "colab_type": "text"
      },
      "cell_type": "markdown",
      "source": [
        "The `LIMIT 10` clause in the query is handy for limiting the size of the output frame during query writing for easier viewing, and we can drop this clause once the query is finalized to run over the whole dataset. One thing to note is that even with the `LIMIT` clause, [running a query may still incur a cost, up to the full query without `LIMIT`](https://cloud.google.com/bigquery/docs/best-practices-costs#preview-data), so the best way to preview data in a table is the [preview tab](https://bigquery.cloud.google.com/table/datathon-datasets:mimic_demo.icustays?tab=preview) in the BigQuery interface. Please rest assured though that Google is sponsoring this Datathon event, so there will not be any cost for running queries in the provided Datathon projects during the event.\n",
        "\n",
        "Now, let us try some Google SQL functions. Please consult the reference page at https://cloud.google.com/bigquery/docs/reference/standard-sql/functions-and-operators for all available functions and operators. Here is an example how `TIMESTAMP_DIFF` can be used for finding how many hours patients ICU stay lasted. Notice how the query result is stored and used in a pandas dataframe."
      ]
    },
    {
      "metadata": {
        "id": "pr3gw1XNQqSx",
        "colab_type": "code",
        "colab": {
          "autoexec": {
            "startup": false,
            "wait_interval": 0
          },
          "base_uri": "https://localhost:8080/",
          "height": 204
        },
        "outputId": "6b049da2-57dd-4edd-ed68-8bebb8e0276f",
        "executionInfo": {
          "status": "ok",
          "timestamp": 1523911013162,
          "user_tz": 240,
          "elapsed": 2835,
          "user": {
            "displayName": "Datathon Admin",
            "photoUrl": "https://lh3.googleusercontent.com/a/default-user=s128",
            "userId": "113393093228139921598"
          }
        }
      },
      "cell_type": "code",
      "source": [
        "df = run_query('''\n",
        "SELECT\n",
        "  subject_id,\n",
        "  hadm_id,\n",
        "  icustay_id,\n",
        "  intime,\n",
        "  outtime,\n",
        "  TIMESTAMP_DIFF(outtime, intime, HOUR) as icu_stay_hours\n",
        "FROM mimic_demo.icustays\n",
        "LIMIT 10\n",
        "''')\n",
        "df.head()"
      ],
      "execution_count": 6,
      "outputs": [
        {
          "output_type": "execute_result",
          "data": {
            "text/html": [
              "<div>\n",
              "<style scoped>\n",
              "    .dataframe tbody tr th:only-of-type {\n",
              "        vertical-align: middle;\n",
              "    }\n",
              "\n",
              "    .dataframe tbody tr th {\n",
              "        vertical-align: top;\n",
              "    }\n",
              "\n",
              "    .dataframe thead th {\n",
              "        text-align: right;\n",
              "    }\n",
              "</style>\n",
              "<table border=\"1\" class=\"dataframe\">\n",
              "  <thead>\n",
              "    <tr style=\"text-align: right;\">\n",
              "      <th></th>\n",
              "      <th>subject_id</th>\n",
              "      <th>hadm_id</th>\n",
              "      <th>icustay_id</th>\n",
              "      <th>intime</th>\n",
              "      <th>outtime</th>\n",
              "      <th>icu_stay_hours</th>\n",
              "    </tr>\n",
              "  </thead>\n",
              "  <tbody>\n",
              "    <tr>\n",
              "      <th>0</th>\n",
              "      <td>40124</td>\n",
              "      <td>146893</td>\n",
              "      <td>269173</td>\n",
              "      <td>2130-08-12 05:50:38</td>\n",
              "      <td>2130-08-15 23:53:00</td>\n",
              "      <td>90</td>\n",
              "    </tr>\n",
              "    <tr>\n",
              "      <th>1</th>\n",
              "      <td>40503</td>\n",
              "      <td>168803</td>\n",
              "      <td>293429</td>\n",
              "      <td>2186-07-06 19:59:36</td>\n",
              "      <td>2186-07-07 20:48:07</td>\n",
              "      <td>24</td>\n",
              "    </tr>\n",
              "    <tr>\n",
              "      <th>2</th>\n",
              "      <td>10124</td>\n",
              "      <td>170883</td>\n",
              "      <td>295043</td>\n",
              "      <td>2192-04-24 02:29:49</td>\n",
              "      <td>2192-04-26 23:59:45</td>\n",
              "      <td>69</td>\n",
              "    </tr>\n",
              "    <tr>\n",
              "      <th>3</th>\n",
              "      <td>43827</td>\n",
              "      <td>149950</td>\n",
              "      <td>243238</td>\n",
              "      <td>2176-07-14 13:25:36</td>\n",
              "      <td>2176-07-16 23:06:00</td>\n",
              "      <td>57</td>\n",
              "    </tr>\n",
              "    <tr>\n",
              "      <th>4</th>\n",
              "      <td>42075</td>\n",
              "      <td>151323</td>\n",
              "      <td>298685</td>\n",
              "      <td>2166-02-12 17:57:37</td>\n",
              "      <td>2166-02-26 02:31:45</td>\n",
              "      <td>320</td>\n",
              "    </tr>\n",
              "  </tbody>\n",
              "</table>\n",
              "</div>"
            ],
            "text/plain": [
              "   subject_id  hadm_id  icustay_id              intime             outtime  \\\n",
              "0       40124   146893      269173 2130-08-12 05:50:38 2130-08-15 23:53:00   \n",
              "1       40503   168803      293429 2186-07-06 19:59:36 2186-07-07 20:48:07   \n",
              "2       10124   170883      295043 2192-04-24 02:29:49 2192-04-26 23:59:45   \n",
              "3       43827   149950      243238 2176-07-14 13:25:36 2176-07-16 23:06:00   \n",
              "4       42075   151323      298685 2166-02-12 17:57:37 2166-02-26 02:31:45   \n",
              "\n",
              "   icu_stay_hours  \n",
              "0              90  \n",
              "1              24  \n",
              "2              69  \n",
              "3              57  \n",
              "4             320  "
            ]
          },
          "metadata": {
            "tags": []
          },
          "execution_count": 6
        }
      ]
    },
    {
      "metadata": {
        "id": "gtf6jXspOBlt",
        "colab_type": "text"
      },
      "cell_type": "markdown",
      "source": [
        "Here is the BigQuery query to list some patients whose ICU stay is at least 2 days. Note that you can use `AS` in the `SELECT` clause to rename a field in the output, and you can omit the table prefix if there is no ambiguity."
      ]
    },
    {
      "metadata": {
        "id": "lvN1TW5JOBRz",
        "colab_type": "code",
        "colab": {
          "autoexec": {
            "startup": false,
            "wait_interval": 0
          },
          "base_uri": "https://localhost:8080/",
          "height": 266
        },
        "outputId": "354a379a-f8e9-44b3-d37c-6b95c3720102",
        "executionInfo": {
          "status": "ok",
          "timestamp": 1523911019539,
          "user_tz": 240,
          "elapsed": 2543,
          "user": {
            "displayName": "Datathon Admin",
            "photoUrl": "https://lh3.googleusercontent.com/a/default-user=s128",
            "userId": "113393093228139921598"
          }
        }
      },
      "cell_type": "code",
      "source": [
        "run_query('''\n",
        "WITH co AS (\n",
        "  SELECT\n",
        "    subject_id,\n",
        "    hadm_id,\n",
        "    icustay_id,\n",
        "    TIMESTAMP_DIFF(outtime, intime, DAY) AS icu_length_of_stay\n",
        "  FROM mimic_demo.icustays\n",
        "  LIMIT 10)\n",
        "SELECT\n",
        "  subject_id,\n",
        "  co.hadm_id AS hadm_ID,\n",
        "  co.icustay_id,\n",
        "  co.icu_length_of_stay\n",
        "FROM co\n",
        "WHERE icu_length_of_stay >= 2\n",
        "''')"
      ],
      "execution_count": 7,
      "outputs": [
        {
          "output_type": "execute_result",
          "data": {
            "text/html": [
              "<div>\n",
              "<style scoped>\n",
              "    .dataframe tbody tr th:only-of-type {\n",
              "        vertical-align: middle;\n",
              "    }\n",
              "\n",
              "    .dataframe tbody tr th {\n",
              "        vertical-align: top;\n",
              "    }\n",
              "\n",
              "    .dataframe thead th {\n",
              "        text-align: right;\n",
              "    }\n",
              "</style>\n",
              "<table border=\"1\" class=\"dataframe\">\n",
              "  <thead>\n",
              "    <tr style=\"text-align: right;\">\n",
              "      <th></th>\n",
              "      <th>subject_id</th>\n",
              "      <th>hadm_ID</th>\n",
              "      <th>icustay_id</th>\n",
              "      <th>icu_length_of_stay</th>\n",
              "    </tr>\n",
              "  </thead>\n",
              "  <tbody>\n",
              "    <tr>\n",
              "      <th>0</th>\n",
              "      <td>10124</td>\n",
              "      <td>170883</td>\n",
              "      <td>295043</td>\n",
              "      <td>2</td>\n",
              "    </tr>\n",
              "    <tr>\n",
              "      <th>1</th>\n",
              "      <td>43827</td>\n",
              "      <td>149950</td>\n",
              "      <td>243238</td>\n",
              "      <td>2</td>\n",
              "    </tr>\n",
              "    <tr>\n",
              "      <th>2</th>\n",
              "      <td>41976</td>\n",
              "      <td>125013</td>\n",
              "      <td>213315</td>\n",
              "      <td>2</td>\n",
              "    </tr>\n",
              "    <tr>\n",
              "      <th>3</th>\n",
              "      <td>40601</td>\n",
              "      <td>182879</td>\n",
              "      <td>279529</td>\n",
              "      <td>2</td>\n",
              "    </tr>\n",
              "    <tr>\n",
              "      <th>4</th>\n",
              "      <td>44083</td>\n",
              "      <td>131048</td>\n",
              "      <td>282640</td>\n",
              "      <td>2</td>\n",
              "    </tr>\n",
              "    <tr>\n",
              "      <th>5</th>\n",
              "      <td>40124</td>\n",
              "      <td>146893</td>\n",
              "      <td>269173</td>\n",
              "      <td>3</td>\n",
              "    </tr>\n",
              "    <tr>\n",
              "      <th>6</th>\n",
              "      <td>42075</td>\n",
              "      <td>151323</td>\n",
              "      <td>298685</td>\n",
              "      <td>13</td>\n",
              "    </tr>\n",
              "  </tbody>\n",
              "</table>\n",
              "</div>"
            ],
            "text/plain": [
              "   subject_id  hadm_ID  icustay_id  icu_length_of_stay\n",
              "0       10124   170883      295043                   2\n",
              "1       43827   149950      243238                   2\n",
              "2       41976   125013      213315                   2\n",
              "3       40601   182879      279529                   2\n",
              "4       44083   131048      282640                   2\n",
              "5       40124   146893      269173                   3\n",
              "6       42075   151323      298685                  13"
            ]
          },
          "metadata": {
            "tags": []
          },
          "execution_count": 7
        }
      ]
    },
    {
      "metadata": {
        "id": "wCi6CbrpPz2L",
        "colab_type": "text"
      },
      "cell_type": "markdown",
      "source": [
        "Now, instead of filtering out ICU stays of length 1 day or less, let's label all the ICU stays with an integer, either 1 for stays of length 2 days or more, or 0 for stays shorter than 2 days. The resulting table is called a \"cohort table\" in the [original MIMIC-III tutorial](https://github.com/MIT-LCP/mimic-code/blob/master/tutorials/cohort-selection.ipynb)."
      ]
    },
    {
      "metadata": {
        "id": "AAL6sbJhQenT",
        "colab_type": "code",
        "colab": {
          "autoexec": {
            "startup": false,
            "wait_interval": 0
          },
          "base_uri": "https://localhost:8080/",
          "height": 359
        },
        "outputId": "cef1c2ac-7aac-4e05-96d9-37ebc7e279bb",
        "executionInfo": {
          "status": "ok",
          "timestamp": 1523911024864,
          "user_tz": 240,
          "elapsed": 2712,
          "user": {
            "displayName": "Datathon Admin",
            "photoUrl": "https://lh3.googleusercontent.com/a/default-user=s128",
            "userId": "113393093228139921598"
          }
        }
      },
      "cell_type": "code",
      "source": [
        "run_query('''\n",
        "WITH co AS (\n",
        "  SELECT\n",
        "    subject_id,\n",
        "    hadm_id,\n",
        "    icustay_id,\n",
        "    TIMESTAMP_DIFF(outtime, intime, DAY) AS icu_length_of_stay\n",
        "  FROM mimic_demo.icustays\n",
        "  LIMIT 10)\n",
        "SELECT\n",
        "  subject_id,\n",
        "  hadm_id,\n",
        "  icustay_id,\n",
        "  icu_length_of_stay,\n",
        "  IF(icu_length_of_stay < 2, 1, 0) AS exclusion_los\n",
        "FROM co\n",
        "ORDER BY icustay_id''')\n"
      ],
      "execution_count": 8,
      "outputs": [
        {
          "output_type": "execute_result",
          "data": {
            "text/html": [
              "<div>\n",
              "<style scoped>\n",
              "    .dataframe tbody tr th:only-of-type {\n",
              "        vertical-align: middle;\n",
              "    }\n",
              "\n",
              "    .dataframe tbody tr th {\n",
              "        vertical-align: top;\n",
              "    }\n",
              "\n",
              "    .dataframe thead th {\n",
              "        text-align: right;\n",
              "    }\n",
              "</style>\n",
              "<table border=\"1\" class=\"dataframe\">\n",
              "  <thead>\n",
              "    <tr style=\"text-align: right;\">\n",
              "      <th></th>\n",
              "      <th>subject_id</th>\n",
              "      <th>hadm_id</th>\n",
              "      <th>icustay_id</th>\n",
              "      <th>icu_length_of_stay</th>\n",
              "      <th>exclusion_los</th>\n",
              "    </tr>\n",
              "  </thead>\n",
              "  <tbody>\n",
              "    <tr>\n",
              "      <th>0</th>\n",
              "      <td>41976</td>\n",
              "      <td>125013</td>\n",
              "      <td>213315</td>\n",
              "      <td>2</td>\n",
              "      <td>0</td>\n",
              "    </tr>\n",
              "    <tr>\n",
              "      <th>1</th>\n",
              "      <td>44222</td>\n",
              "      <td>192189</td>\n",
              "      <td>238186</td>\n",
              "      <td>1</td>\n",
              "      <td>1</td>\n",
              "    </tr>\n",
              "    <tr>\n",
              "      <th>2</th>\n",
              "      <td>43827</td>\n",
              "      <td>149950</td>\n",
              "      <td>243238</td>\n",
              "      <td>2</td>\n",
              "      <td>0</td>\n",
              "    </tr>\n",
              "    <tr>\n",
              "      <th>3</th>\n",
              "      <td>10088</td>\n",
              "      <td>168233</td>\n",
              "      <td>249695</td>\n",
              "      <td>1</td>\n",
              "      <td>1</td>\n",
              "    </tr>\n",
              "    <tr>\n",
              "      <th>4</th>\n",
              "      <td>40124</td>\n",
              "      <td>146893</td>\n",
              "      <td>269173</td>\n",
              "      <td>3</td>\n",
              "      <td>0</td>\n",
              "    </tr>\n",
              "    <tr>\n",
              "      <th>5</th>\n",
              "      <td>40601</td>\n",
              "      <td>182879</td>\n",
              "      <td>279529</td>\n",
              "      <td>2</td>\n",
              "      <td>0</td>\n",
              "    </tr>\n",
              "    <tr>\n",
              "      <th>6</th>\n",
              "      <td>44083</td>\n",
              "      <td>131048</td>\n",
              "      <td>282640</td>\n",
              "      <td>2</td>\n",
              "      <td>0</td>\n",
              "    </tr>\n",
              "    <tr>\n",
              "      <th>7</th>\n",
              "      <td>40503</td>\n",
              "      <td>168803</td>\n",
              "      <td>293429</td>\n",
              "      <td>1</td>\n",
              "      <td>1</td>\n",
              "    </tr>\n",
              "    <tr>\n",
              "      <th>8</th>\n",
              "      <td>10124</td>\n",
              "      <td>170883</td>\n",
              "      <td>295043</td>\n",
              "      <td>2</td>\n",
              "      <td>0</td>\n",
              "    </tr>\n",
              "    <tr>\n",
              "      <th>9</th>\n",
              "      <td>42075</td>\n",
              "      <td>151323</td>\n",
              "      <td>298685</td>\n",
              "      <td>13</td>\n",
              "      <td>0</td>\n",
              "    </tr>\n",
              "  </tbody>\n",
              "</table>\n",
              "</div>"
            ],
            "text/plain": [
              "   subject_id  hadm_id  icustay_id  icu_length_of_stay  exclusion_los\n",
              "0       41976   125013      213315                   2              0\n",
              "1       44222   192189      238186                   1              1\n",
              "2       43827   149950      243238                   2              0\n",
              "3       10088   168233      249695                   1              1\n",
              "4       40124   146893      269173                   3              0\n",
              "5       40601   182879      279529                   2              0\n",
              "6       44083   131048      282640                   2              0\n",
              "7       40503   168803      293429                   1              1\n",
              "8       10124   170883      295043                   2              0\n",
              "9       42075   151323      298685                  13              0"
            ]
          },
          "metadata": {
            "tags": []
          },
          "execution_count": 8
        }
      ]
    },
    {
      "metadata": {
        "id": "R1h17cUoSbQV",
        "colab_type": "text"
      },
      "cell_type": "markdown",
      "source": [
        "Let's now try a query that requires table joining: include the patient's age at the time of ICU admittance. This is computed by the date difference in years between the ICU `intime` and the patient's date of birth. The former is available in the `icustays` table, and the latter resides in the `dob` column of the `patients` table."
      ]
    },
    {
      "metadata": {
        "id": "hmC3SUxdSths",
        "colab_type": "code",
        "colab": {
          "autoexec": {
            "startup": false,
            "wait_interval": 0
          },
          "base_uri": "https://localhost:8080/",
          "height": 359
        },
        "outputId": "1c206745-a43a-48d1-b10b-69f9e87beed8",
        "executionInfo": {
          "status": "ok",
          "timestamp": 1523911030462,
          "user_tz": 240,
          "elapsed": 3031,
          "user": {
            "displayName": "Datathon Admin",
            "photoUrl": "https://lh3.googleusercontent.com/a/default-user=s128",
            "userId": "113393093228139921598"
          }
        }
      },
      "cell_type": "code",
      "source": [
        "run_query('''\n",
        "WITH co AS (\n",
        "  SELECT\n",
        "    icu.subject_id,\n",
        "    icu.hadm_id,\n",
        "    icu.icustay_id,\n",
        "    pat.dob,\n",
        "    TIMESTAMP_DIFF(icu.outtime, icu.intime, DAY) AS icu_length_of_stay,\n",
        "    DATE_DIFF(DATE(icu.intime), DATE(pat.dob), YEAR) AS age\n",
        "  FROM mimic_demo.icustays AS icu\n",
        "  INNER JOIN mimic_demo.patients AS pat\n",
        "    ON icu.subject_id = pat.subject_id\n",
        "  LIMIT 10)\n",
        "SELECT\n",
        "  subject_id,\n",
        "  hadm_id,\n",
        "  icustay_id,\n",
        "  icu_length_of_stay, co.age,\n",
        "  IF(icu_length_of_stay < 2, 1, 0) AS exclusion_los\n",
        "FROM co\n",
        "''')\n"
      ],
      "execution_count": 9,
      "outputs": [
        {
          "output_type": "execute_result",
          "data": {
            "text/html": [
              "<div>\n",
              "<style scoped>\n",
              "    .dataframe tbody tr th:only-of-type {\n",
              "        vertical-align: middle;\n",
              "    }\n",
              "\n",
              "    .dataframe tbody tr th {\n",
              "        vertical-align: top;\n",
              "    }\n",
              "\n",
              "    .dataframe thead th {\n",
              "        text-align: right;\n",
              "    }\n",
              "</style>\n",
              "<table border=\"1\" class=\"dataframe\">\n",
              "  <thead>\n",
              "    <tr style=\"text-align: right;\">\n",
              "      <th></th>\n",
              "      <th>subject_id</th>\n",
              "      <th>hadm_id</th>\n",
              "      <th>icustay_id</th>\n",
              "      <th>icu_length_of_stay</th>\n",
              "      <th>age</th>\n",
              "      <th>exclusion_los</th>\n",
              "    </tr>\n",
              "  </thead>\n",
              "  <tbody>\n",
              "    <tr>\n",
              "      <th>0</th>\n",
              "      <td>40503</td>\n",
              "      <td>168803</td>\n",
              "      <td>293429</td>\n",
              "      <td>1</td>\n",
              "      <td>89</td>\n",
              "      <td>1</td>\n",
              "    </tr>\n",
              "    <tr>\n",
              "      <th>1</th>\n",
              "      <td>10088</td>\n",
              "      <td>168233</td>\n",
              "      <td>249695</td>\n",
              "      <td>1</td>\n",
              "      <td>78</td>\n",
              "      <td>1</td>\n",
              "    </tr>\n",
              "    <tr>\n",
              "      <th>2</th>\n",
              "      <td>44222</td>\n",
              "      <td>192189</td>\n",
              "      <td>238186</td>\n",
              "      <td>1</td>\n",
              "      <td>73</td>\n",
              "      <td>1</td>\n",
              "    </tr>\n",
              "    <tr>\n",
              "      <th>3</th>\n",
              "      <td>10124</td>\n",
              "      <td>170883</td>\n",
              "      <td>295043</td>\n",
              "      <td>2</td>\n",
              "      <td>84</td>\n",
              "      <td>0</td>\n",
              "    </tr>\n",
              "    <tr>\n",
              "      <th>4</th>\n",
              "      <td>43827</td>\n",
              "      <td>149950</td>\n",
              "      <td>243238</td>\n",
              "      <td>2</td>\n",
              "      <td>300</td>\n",
              "      <td>0</td>\n",
              "    </tr>\n",
              "    <tr>\n",
              "      <th>5</th>\n",
              "      <td>41976</td>\n",
              "      <td>125013</td>\n",
              "      <td>213315</td>\n",
              "      <td>2</td>\n",
              "      <td>65</td>\n",
              "      <td>0</td>\n",
              "    </tr>\n",
              "    <tr>\n",
              "      <th>6</th>\n",
              "      <td>40601</td>\n",
              "      <td>182879</td>\n",
              "      <td>279529</td>\n",
              "      <td>2</td>\n",
              "      <td>72</td>\n",
              "      <td>0</td>\n",
              "    </tr>\n",
              "    <tr>\n",
              "      <th>7</th>\n",
              "      <td>44083</td>\n",
              "      <td>131048</td>\n",
              "      <td>282640</td>\n",
              "      <td>2</td>\n",
              "      <td>55</td>\n",
              "      <td>0</td>\n",
              "    </tr>\n",
              "    <tr>\n",
              "      <th>8</th>\n",
              "      <td>40124</td>\n",
              "      <td>146893</td>\n",
              "      <td>269173</td>\n",
              "      <td>3</td>\n",
              "      <td>67</td>\n",
              "      <td>0</td>\n",
              "    </tr>\n",
              "    <tr>\n",
              "      <th>9</th>\n",
              "      <td>42075</td>\n",
              "      <td>151323</td>\n",
              "      <td>298685</td>\n",
              "      <td>13</td>\n",
              "      <td>80</td>\n",
              "      <td>0</td>\n",
              "    </tr>\n",
              "  </tbody>\n",
              "</table>\n",
              "</div>"
            ],
            "text/plain": [
              "   subject_id  hadm_id  icustay_id  icu_length_of_stay  age  exclusion_los\n",
              "0       40503   168803      293429                   1   89              1\n",
              "1       10088   168233      249695                   1   78              1\n",
              "2       44222   192189      238186                   1   73              1\n",
              "3       10124   170883      295043                   2   84              0\n",
              "4       43827   149950      243238                   2  300              0\n",
              "5       41976   125013      213315                   2   65              0\n",
              "6       40601   182879      279529                   2   72              0\n",
              "7       44083   131048      282640                   2   55              0\n",
              "8       40124   146893      269173                   3   67              0\n",
              "9       42075   151323      298685                  13   80              0"
            ]
          },
          "metadata": {
            "tags": []
          },
          "execution_count": 9
        }
      ]
    },
    {
      "metadata": {
        "id": "VJULViGdWQHb",
        "colab_type": "text"
      },
      "cell_type": "markdown",
      "source": [
        "It is somewhat surprising to see a patient whose age is 300! This raises the question whether the age distribution of all patients is sane. We can verify this by querying the quantiles of patients' ages. Notice that we have removed the `LIMIT 10` clause in the inner query, but the result is only one row, containing an array of 11 ingeter ages."
      ]
    },
    {
      "metadata": {
        "id": "oUhTC1SDVNX1",
        "colab_type": "code",
        "colab": {
          "autoexec": {
            "startup": false,
            "wait_interval": 0
          },
          "base_uri": "https://localhost:8080/",
          "height": 80
        },
        "outputId": "94b78792-deba-4308-de5a-b3c3f471bf03",
        "executionInfo": {
          "status": "ok",
          "timestamp": 1523911054795,
          "user_tz": 240,
          "elapsed": 2879,
          "user": {
            "displayName": "Datathon Admin",
            "photoUrl": "https://lh3.googleusercontent.com/a/default-user=s128",
            "userId": "113393093228139921598"
          }
        }
      },
      "cell_type": "code",
      "source": [
        "run_query('''\n",
        "WITH co AS (\n",
        "  SELECT\n",
        "    DATE_DIFF(DATE(icu.intime), DATE(pat.dob), YEAR) AS age\n",
        "  FROM mimic_demo.icustays AS icu\n",
        "  INNER JOIN mimic_demo.patients AS pat\n",
        "    ON icu.subject_id = pat.subject_id)\n",
        "SELECT\n",
        "  APPROX_QUANTILES(age, 10) AS age_quantiles\n",
        "FROM co\n",
        "''')"
      ],
      "execution_count": 11,
      "outputs": [
        {
          "output_type": "execute_result",
          "data": {
            "text/html": [
              "<div>\n",
              "<style scoped>\n",
              "    .dataframe tbody tr th:only-of-type {\n",
              "        vertical-align: middle;\n",
              "    }\n",
              "\n",
              "    .dataframe tbody tr th {\n",
              "        vertical-align: top;\n",
              "    }\n",
              "\n",
              "    .dataframe thead th {\n",
              "        text-align: right;\n",
              "    }\n",
              "</style>\n",
              "<table border=\"1\" class=\"dataframe\">\n",
              "  <thead>\n",
              "    <tr style=\"text-align: right;\">\n",
              "      <th></th>\n",
              "      <th>age_quantiles</th>\n",
              "    </tr>\n",
              "  </thead>\n",
              "  <tbody>\n",
              "    <tr>\n",
              "      <th>0</th>\n",
              "      <td>[17, 49, 62, 65, 69, 74, 78, 82, 86, 88, 300]</td>\n",
              "    </tr>\n",
              "  </tbody>\n",
              "</table>\n",
              "</div>"
            ],
            "text/plain": [
              "                                   age_quantiles\n",
              "0  [17, 49, 62, 65, 69, 74, 78, 82, 86, 88, 300]"
            ]
          },
          "metadata": {
            "tags": []
          },
          "execution_count": 11
        }
      ]
    },
    {
      "metadata": {
        "id": "otDs_fMJWtPU",
        "colab_type": "text"
      },
      "cell_type": "markdown",
      "source": [
        "The result says that the minimum age (0th percentile) is 17, the 10th percentile is 49, the 20th percentile is 62, and so on, and 300 is the maximum (100-th percentile). The distribution looks good, and 300 could be an outlier caused by inaccurate data collection."
      ]
    },
    {
      "metadata": {
        "id": "UWwr1o2DXi2B",
        "colab_type": "code",
        "colab": {
          "autoexec": {
            "startup": false,
            "wait_interval": 0
          },
          "base_uri": "https://localhost:8080/",
          "height": 359
        },
        "outputId": "8a2621d8-c0f0-4ad1-b24b-c1ef22597407",
        "executionInfo": {
          "status": "ok",
          "timestamp": 1523911060003,
          "user_tz": 240,
          "elapsed": 3242,
          "user": {
            "displayName": "Datathon Admin",
            "photoUrl": "https://lh3.googleusercontent.com/a/default-user=s128",
            "userId": "113393093228139921598"
          }
        }
      },
      "cell_type": "code",
      "source": [
        "run_query('''\n",
        "SELECT\n",
        "  DATE_DIFF(DATE(icu.intime), DATE(pat.dob), YEAR) AS age\n",
        "FROM mimic_demo.icustays AS icu\n",
        "INNER JOIN mimic_demo.patients AS pat\n",
        "  ON icu.subject_id = pat.subject_id\n",
        "ORDER BY age DESC\n",
        "LIMIT 10\n",
        "''')\n"
      ],
      "execution_count": 12,
      "outputs": [
        {
          "output_type": "execute_result",
          "data": {
            "text/html": [
              "<div>\n",
              "<style scoped>\n",
              "    .dataframe tbody tr th:only-of-type {\n",
              "        vertical-align: middle;\n",
              "    }\n",
              "\n",
              "    .dataframe tbody tr th {\n",
              "        vertical-align: top;\n",
              "    }\n",
              "\n",
              "    .dataframe thead th {\n",
              "        text-align: right;\n",
              "    }\n",
              "</style>\n",
              "<table border=\"1\" class=\"dataframe\">\n",
              "  <thead>\n",
              "    <tr style=\"text-align: right;\">\n",
              "      <th></th>\n",
              "      <th>age</th>\n",
              "    </tr>\n",
              "  </thead>\n",
              "  <tbody>\n",
              "    <tr>\n",
              "      <th>0</th>\n",
              "      <td>300</td>\n",
              "    </tr>\n",
              "    <tr>\n",
              "      <th>1</th>\n",
              "      <td>300</td>\n",
              "    </tr>\n",
              "    <tr>\n",
              "      <th>2</th>\n",
              "      <td>300</td>\n",
              "    </tr>\n",
              "    <tr>\n",
              "      <th>3</th>\n",
              "      <td>300</td>\n",
              "    </tr>\n",
              "    <tr>\n",
              "      <th>4</th>\n",
              "      <td>300</td>\n",
              "    </tr>\n",
              "    <tr>\n",
              "      <th>5</th>\n",
              "      <td>300</td>\n",
              "    </tr>\n",
              "    <tr>\n",
              "      <th>6</th>\n",
              "      <td>300</td>\n",
              "    </tr>\n",
              "    <tr>\n",
              "      <th>7</th>\n",
              "      <td>300</td>\n",
              "    </tr>\n",
              "    <tr>\n",
              "      <th>8</th>\n",
              "      <td>300</td>\n",
              "    </tr>\n",
              "    <tr>\n",
              "      <th>9</th>\n",
              "      <td>89</td>\n",
              "    </tr>\n",
              "  </tbody>\n",
              "</table>\n",
              "</div>"
            ],
            "text/plain": [
              "   age\n",
              "0  300\n",
              "1  300\n",
              "2  300\n",
              "3  300\n",
              "4  300\n",
              "5  300\n",
              "6  300\n",
              "7  300\n",
              "8  300\n",
              "9   89"
            ]
          },
          "metadata": {
            "tags": []
          },
          "execution_count": 12
        }
      ]
    },
    {
      "metadata": {
        "id": "M_4zGhDUX17l",
        "colab_type": "text"
      },
      "cell_type": "markdown",
      "source": [
        "Indeed, there are 9 cases of 300-year olds patient ICU admittances that look suspicious, but after that, the maximum age of the patients is 89. Actually, the 300 age is intentionally introduced in the MIMIC-III datasets for privacy protection of patients whose age is 90 or beyond: any patient in this age group got their age redacted to 300.\n",
        "\n",
        "Next, let's see how many ICU admissions each patient had."
      ]
    },
    {
      "metadata": {
        "id": "bC2K6aKwY63r",
        "colab_type": "code",
        "colab": {
          "autoexec": {
            "startup": false,
            "wait_interval": 0
          },
          "base_uri": "https://localhost:8080/",
          "height": 359
        },
        "outputId": "202cb2e4-d5f2-4a23-cb86-6f20f1f29062",
        "executionInfo": {
          "status": "ok",
          "timestamp": 1523911065514,
          "user_tz": 240,
          "elapsed": 3008,
          "user": {
            "displayName": "Datathon Admin",
            "photoUrl": "https://lh3.googleusercontent.com/a/default-user=s128",
            "userId": "113393093228139921598"
          }
        }
      },
      "cell_type": "code",
      "source": [
        "run_query('''\n",
        "WITH co AS (\n",
        "  SELECT\n",
        "    icu.subject_id,\n",
        "    icu.hadm_id,\n",
        "    icu.icustay_id,\n",
        "    pat.dob,\n",
        "    TIMESTAMP_DIFF(icu.outtime, icu.intime, DAY) AS icu_length_of_stay,\n",
        "    DATE_DIFF(DATE(icu.intime), DATE(pat.dob), YEAR) AS age,\n",
        "    RANK() OVER (PARTITION BY icu.subject_id ORDER BY icu.intime) AS icustay_id_order\n",
        "  FROM mimic_demo.icustays AS icu\n",
        "  INNER JOIN mimic_demo.patients AS pat\n",
        "    ON icu.subject_id = pat.subject_id\n",
        "  ORDER BY hadm_id DESC\n",
        "  LIMIT 10\n",
        "  )\n",
        "SELECT\n",
        "  subject_id,\n",
        "  hadm_id,\n",
        "  icustay_id,\n",
        "  icu_length_of_stay, co.age,\n",
        "  IF(icu_length_of_stay < 2, 1, 0) AS exclusion_los,\n",
        "  icustay_id_order\n",
        "FROM co\n",
        "ORDER BY subject_id, icustay_id_order\n",
        "''')\n"
      ],
      "execution_count": 13,
      "outputs": [
        {
          "output_type": "execute_result",
          "data": {
            "text/html": [
              "<div>\n",
              "<style scoped>\n",
              "    .dataframe tbody tr th:only-of-type {\n",
              "        vertical-align: middle;\n",
              "    }\n",
              "\n",
              "    .dataframe tbody tr th {\n",
              "        vertical-align: top;\n",
              "    }\n",
              "\n",
              "    .dataframe thead th {\n",
              "        text-align: right;\n",
              "    }\n",
              "</style>\n",
              "<table border=\"1\" class=\"dataframe\">\n",
              "  <thead>\n",
              "    <tr style=\"text-align: right;\">\n",
              "      <th></th>\n",
              "      <th>subject_id</th>\n",
              "      <th>hadm_id</th>\n",
              "      <th>icustay_id</th>\n",
              "      <th>icu_length_of_stay</th>\n",
              "      <th>age</th>\n",
              "      <th>exclusion_los</th>\n",
              "      <th>icustay_id_order</th>\n",
              "    </tr>\n",
              "  </thead>\n",
              "  <tbody>\n",
              "    <tr>\n",
              "      <th>0</th>\n",
              "      <td>10017</td>\n",
              "      <td>199207</td>\n",
              "      <td>204881</td>\n",
              "      <td>2</td>\n",
              "      <td>74</td>\n",
              "      <td>0</td>\n",
              "      <td>1</td>\n",
              "    </tr>\n",
              "    <tr>\n",
              "      <th>1</th>\n",
              "      <td>10027</td>\n",
              "      <td>199395</td>\n",
              "      <td>286020</td>\n",
              "      <td>7</td>\n",
              "      <td>82</td>\n",
              "      <td>0</td>\n",
              "      <td>1</td>\n",
              "    </tr>\n",
              "    <tr>\n",
              "      <th>2</th>\n",
              "      <td>10076</td>\n",
              "      <td>198503</td>\n",
              "      <td>201006</td>\n",
              "      <td>7</td>\n",
              "      <td>69</td>\n",
              "      <td>0</td>\n",
              "      <td>1</td>\n",
              "    </tr>\n",
              "    <tr>\n",
              "      <th>3</th>\n",
              "      <td>10120</td>\n",
              "      <td>193924</td>\n",
              "      <td>268282</td>\n",
              "      <td>2</td>\n",
              "      <td>27</td>\n",
              "      <td>0</td>\n",
              "      <td>1</td>\n",
              "    </tr>\n",
              "    <tr>\n",
              "      <th>4</th>\n",
              "      <td>10132</td>\n",
              "      <td>197611</td>\n",
              "      <td>292910</td>\n",
              "      <td>0</td>\n",
              "      <td>65</td>\n",
              "      <td>1</td>\n",
              "      <td>1</td>\n",
              "    </tr>\n",
              "    <tr>\n",
              "      <th>5</th>\n",
              "      <td>40177</td>\n",
              "      <td>198480</td>\n",
              "      <td>236120</td>\n",
              "      <td>1</td>\n",
              "      <td>87</td>\n",
              "      <td>1</td>\n",
              "      <td>1</td>\n",
              "    </tr>\n",
              "    <tr>\n",
              "      <th>6</th>\n",
              "      <td>40177</td>\n",
              "      <td>198480</td>\n",
              "      <td>285750</td>\n",
              "      <td>0</td>\n",
              "      <td>87</td>\n",
              "      <td>1</td>\n",
              "      <td>2</td>\n",
              "    </tr>\n",
              "    <tr>\n",
              "      <th>7</th>\n",
              "      <td>42281</td>\n",
              "      <td>195911</td>\n",
              "      <td>256746</td>\n",
              "      <td>3</td>\n",
              "      <td>68</td>\n",
              "      <td>0</td>\n",
              "      <td>1</td>\n",
              "    </tr>\n",
              "    <tr>\n",
              "      <th>8</th>\n",
              "      <td>42281</td>\n",
              "      <td>195911</td>\n",
              "      <td>221684</td>\n",
              "      <td>15</td>\n",
              "      <td>68</td>\n",
              "      <td>0</td>\n",
              "      <td>2</td>\n",
              "    </tr>\n",
              "    <tr>\n",
              "      <th>9</th>\n",
              "      <td>44083</td>\n",
              "      <td>198330</td>\n",
              "      <td>286428</td>\n",
              "      <td>3</td>\n",
              "      <td>55</td>\n",
              "      <td>0</td>\n",
              "      <td>3</td>\n",
              "    </tr>\n",
              "  </tbody>\n",
              "</table>\n",
              "</div>"
            ],
            "text/plain": [
              "   subject_id  hadm_id  icustay_id  icu_length_of_stay  age  exclusion_los  \\\n",
              "0       10017   199207      204881                   2   74              0   \n",
              "1       10027   199395      286020                   7   82              0   \n",
              "2       10076   198503      201006                   7   69              0   \n",
              "3       10120   193924      268282                   2   27              0   \n",
              "4       10132   197611      292910                   0   65              1   \n",
              "5       40177   198480      236120                   1   87              1   \n",
              "6       40177   198480      285750                   0   87              1   \n",
              "7       42281   195911      256746                   3   68              0   \n",
              "8       42281   195911      221684                  15   68              0   \n",
              "9       44083   198330      286428                   3   55              0   \n",
              "\n",
              "   icustay_id_order  \n",
              "0                 1  \n",
              "1                 1  \n",
              "2                 1  \n",
              "3                 1  \n",
              "4                 1  \n",
              "5                 1  \n",
              "6                 2  \n",
              "7                 1  \n",
              "8                 2  \n",
              "9                 3  "
            ]
          },
          "metadata": {
            "tags": []
          },
          "execution_count": 13
        }
      ]
    },
    {
      "metadata": {
        "id": "jPCwA7AHaiE6",
        "colab_type": "text"
      },
      "cell_type": "markdown",
      "source": [
        "In the last column, we see that for some patients (e.g. Subject `40177` and `42281`), there are multiple ICU stays. In research studies, we usually filter out follow-up ICU stays, and only keep the first ICU stay so as to minimize unwanted data correlation. For this purpose, we create an exclusion label column based on icustay_id_order, which becomes handy for filtering needs. This is done by ranking the ICU visits ordered by the admission time in the following query, and `PARTITION BY` ensures that the ranking is within each patient (`subject_id`)."
      ]
    },
    {
      "metadata": {
        "id": "VVPdxcTWagFU",
        "colab_type": "code",
        "colab": {
          "autoexec": {
            "startup": false,
            "wait_interval": 0
          },
          "base_uri": "https://localhost:8080/",
          "height": 359
        },
        "outputId": "9f268a06-31db-4342-c5e8-2a11d8f50506",
        "executionInfo": {
          "status": "ok",
          "timestamp": 1523911071259,
          "user_tz": 240,
          "elapsed": 3385,
          "user": {
            "displayName": "Datathon Admin",
            "photoUrl": "https://lh3.googleusercontent.com/a/default-user=s128",
            "userId": "113393093228139921598"
          }
        }
      },
      "cell_type": "code",
      "source": [
        "run_query('''\n",
        "WITH co AS (\n",
        "  SELECT\n",
        "    icu.subject_id,\n",
        "    icu.hadm_id,\n",
        "    icu.icustay_id,\n",
        "    pat.dob,\n",
        "    TIMESTAMP_DIFF(icu.outtime, icu.intime, DAY) AS icu_length_of_stay,\n",
        "    DATE_DIFF(DATE(icu.intime), DATE(pat.dob), YEAR) AS age,\n",
        "    RANK() OVER (PARTITION BY icu.subject_id ORDER BY icu.intime) AS icustay_id_order\n",
        "  FROM mimic_demo.icustays AS icu\n",
        "  INNER JOIN mimic_demo.patients AS pat\n",
        "    ON icu.subject_id = pat.subject_id\n",
        "  ORDER BY hadm_id DESC\n",
        "  LIMIT 10\n",
        "  )\n",
        "SELECT\n",
        "  subject_id,\n",
        "  hadm_id,\n",
        "  icustay_id,\n",
        "  icu_length_of_stay, co.age,\n",
        "  IF(icu_length_of_stay < 2, 1, 0) AS exclusion_los,\n",
        "  icustay_id_order,\n",
        "  IF(icustay_id_order = 1, 0, 1) AS exclusion_first_stay\n",
        "FROM co\n",
        "ORDER BY subject_id, icustay_id_order\n",
        "''')\n"
      ],
      "execution_count": 14,
      "outputs": [
        {
          "output_type": "execute_result",
          "data": {
            "text/html": [
              "<div>\n",
              "<style scoped>\n",
              "    .dataframe tbody tr th:only-of-type {\n",
              "        vertical-align: middle;\n",
              "    }\n",
              "\n",
              "    .dataframe tbody tr th {\n",
              "        vertical-align: top;\n",
              "    }\n",
              "\n",
              "    .dataframe thead th {\n",
              "        text-align: right;\n",
              "    }\n",
              "</style>\n",
              "<table border=\"1\" class=\"dataframe\">\n",
              "  <thead>\n",
              "    <tr style=\"text-align: right;\">\n",
              "      <th></th>\n",
              "      <th>subject_id</th>\n",
              "      <th>hadm_id</th>\n",
              "      <th>icustay_id</th>\n",
              "      <th>icu_length_of_stay</th>\n",
              "      <th>age</th>\n",
              "      <th>exclusion_los</th>\n",
              "      <th>icustay_id_order</th>\n",
              "      <th>exclusion_first_stay</th>\n",
              "    </tr>\n",
              "  </thead>\n",
              "  <tbody>\n",
              "    <tr>\n",
              "      <th>0</th>\n",
              "      <td>10017</td>\n",
              "      <td>199207</td>\n",
              "      <td>204881</td>\n",
              "      <td>2</td>\n",
              "      <td>74</td>\n",
              "      <td>0</td>\n",
              "      <td>1</td>\n",
              "      <td>0</td>\n",
              "    </tr>\n",
              "    <tr>\n",
              "      <th>1</th>\n",
              "      <td>10027</td>\n",
              "      <td>199395</td>\n",
              "      <td>286020</td>\n",
              "      <td>7</td>\n",
              "      <td>82</td>\n",
              "      <td>0</td>\n",
              "      <td>1</td>\n",
              "      <td>0</td>\n",
              "    </tr>\n",
              "    <tr>\n",
              "      <th>2</th>\n",
              "      <td>10076</td>\n",
              "      <td>198503</td>\n",
              "      <td>201006</td>\n",
              "      <td>7</td>\n",
              "      <td>69</td>\n",
              "      <td>0</td>\n",
              "      <td>1</td>\n",
              "      <td>0</td>\n",
              "    </tr>\n",
              "    <tr>\n",
              "      <th>3</th>\n",
              "      <td>10120</td>\n",
              "      <td>193924</td>\n",
              "      <td>268282</td>\n",
              "      <td>2</td>\n",
              "      <td>27</td>\n",
              "      <td>0</td>\n",
              "      <td>1</td>\n",
              "      <td>0</td>\n",
              "    </tr>\n",
              "    <tr>\n",
              "      <th>4</th>\n",
              "      <td>10132</td>\n",
              "      <td>197611</td>\n",
              "      <td>292910</td>\n",
              "      <td>0</td>\n",
              "      <td>65</td>\n",
              "      <td>1</td>\n",
              "      <td>1</td>\n",
              "      <td>0</td>\n",
              "    </tr>\n",
              "    <tr>\n",
              "      <th>5</th>\n",
              "      <td>40177</td>\n",
              "      <td>198480</td>\n",
              "      <td>236120</td>\n",
              "      <td>1</td>\n",
              "      <td>87</td>\n",
              "      <td>1</td>\n",
              "      <td>1</td>\n",
              "      <td>0</td>\n",
              "    </tr>\n",
              "    <tr>\n",
              "      <th>6</th>\n",
              "      <td>40177</td>\n",
              "      <td>198480</td>\n",
              "      <td>285750</td>\n",
              "      <td>0</td>\n",
              "      <td>87</td>\n",
              "      <td>1</td>\n",
              "      <td>2</td>\n",
              "      <td>1</td>\n",
              "    </tr>\n",
              "    <tr>\n",
              "      <th>7</th>\n",
              "      <td>42281</td>\n",
              "      <td>195911</td>\n",
              "      <td>256746</td>\n",
              "      <td>3</td>\n",
              "      <td>68</td>\n",
              "      <td>0</td>\n",
              "      <td>1</td>\n",
              "      <td>0</td>\n",
              "    </tr>\n",
              "    <tr>\n",
              "      <th>8</th>\n",
              "      <td>42281</td>\n",
              "      <td>195911</td>\n",
              "      <td>221684</td>\n",
              "      <td>15</td>\n",
              "      <td>68</td>\n",
              "      <td>0</td>\n",
              "      <td>2</td>\n",
              "      <td>1</td>\n",
              "    </tr>\n",
              "    <tr>\n",
              "      <th>9</th>\n",
              "      <td>44083</td>\n",
              "      <td>198330</td>\n",
              "      <td>286428</td>\n",
              "      <td>3</td>\n",
              "      <td>55</td>\n",
              "      <td>0</td>\n",
              "      <td>3</td>\n",
              "      <td>1</td>\n",
              "    </tr>\n",
              "  </tbody>\n",
              "</table>\n",
              "</div>"
            ],
            "text/plain": [
              "   subject_id  hadm_id  icustay_id  icu_length_of_stay  age  exclusion_los  \\\n",
              "0       10017   199207      204881                   2   74              0   \n",
              "1       10027   199395      286020                   7   82              0   \n",
              "2       10076   198503      201006                   7   69              0   \n",
              "3       10120   193924      268282                   2   27              0   \n",
              "4       10132   197611      292910                   0   65              1   \n",
              "5       40177   198480      236120                   1   87              1   \n",
              "6       40177   198480      285750                   0   87              1   \n",
              "7       42281   195911      256746                   3   68              0   \n",
              "8       42281   195911      221684                  15   68              0   \n",
              "9       44083   198330      286428                   3   55              0   \n",
              "\n",
              "   icustay_id_order  exclusion_first_stay  \n",
              "0                 1                     0  \n",
              "1                 1                     0  \n",
              "2                 1                     0  \n",
              "3                 1                     0  \n",
              "4                 1                     0  \n",
              "5                 1                     0  \n",
              "6                 2                     1  \n",
              "7                 1                     0  \n",
              "8                 2                     1  \n",
              "9                 3                     1  "
            ]
          },
          "metadata": {
            "tags": []
          },
          "execution_count": 14
        }
      ]
    },
    {
      "metadata": {
        "id": "r5cmjGGQcu1I",
        "colab_type": "text"
      },
      "cell_type": "markdown",
      "source": [
        "Another filter that we often use is the current service that ICU patients are undergoing. This could be done by joining with the [`services`](https://bigquery.cloud.google.com/table/datathon-datasets:mimic_demo.services?tab=schema) table using the `hadm_id` column. We can use the [BigQuery preview tab](https://bigquery.cloud.google.com/table/datathon-datasets:mimic_demo.services?tab=preview) to gain some visual understanding of data in this table as usual. We could also find out the number of each service instances and whether it's a sergical service by running the following query with aggregation function `COUNT DISTINCT`. You can find the service code descriptions at http://mimic.physionet.org/mimictables/services/."
      ]
    },
    {
      "metadata": {
        "id": "U7wvc7wTceLN",
        "colab_type": "code",
        "colab": {
          "autoexec": {
            "startup": false,
            "wait_interval": 0
          },
          "base_uri": "https://localhost:8080/",
          "height": 421
        },
        "outputId": "6d2be427-f788-4e0f-e648-a4b0fbbb6e8c",
        "executionInfo": {
          "status": "ok",
          "timestamp": 1523911075963,
          "user_tz": 240,
          "elapsed": 2745,
          "user": {
            "displayName": "Datathon Admin",
            "photoUrl": "https://lh3.googleusercontent.com/a/default-user=s128",
            "userId": "113393093228139921598"
          }
        }
      },
      "cell_type": "code",
      "source": [
        "run_query('''\n",
        "SELECT\n",
        "  curr_service,\n",
        "  IF(curr_service like '%SURG' OR curr_service = 'ORTHO', 1, 0) AS surgical,\n",
        "  COUNT(DISTINCT hadm_id) num_hadm\n",
        "FROM mimic_demo.services\n",
        "GROUP BY 1, 2\n",
        "ORDER BY 2, 1\n",
        "''')"
      ],
      "execution_count": 15,
      "outputs": [
        {
          "output_type": "execute_result",
          "data": {
            "text/html": [
              "<div>\n",
              "<style scoped>\n",
              "    .dataframe tbody tr th:only-of-type {\n",
              "        vertical-align: middle;\n",
              "    }\n",
              "\n",
              "    .dataframe tbody tr th {\n",
              "        vertical-align: top;\n",
              "    }\n",
              "\n",
              "    .dataframe thead th {\n",
              "        text-align: right;\n",
              "    }\n",
              "</style>\n",
              "<table border=\"1\" class=\"dataframe\">\n",
              "  <thead>\n",
              "    <tr style=\"text-align: right;\">\n",
              "      <th></th>\n",
              "      <th>curr_service</th>\n",
              "      <th>surgical</th>\n",
              "      <th>num_hadm</th>\n",
              "    </tr>\n",
              "  </thead>\n",
              "  <tbody>\n",
              "    <tr>\n",
              "      <th>0</th>\n",
              "      <td>CMED</td>\n",
              "      <td>0</td>\n",
              "      <td>13</td>\n",
              "    </tr>\n",
              "    <tr>\n",
              "      <th>1</th>\n",
              "      <td>GU</td>\n",
              "      <td>0</td>\n",
              "      <td>1</td>\n",
              "    </tr>\n",
              "    <tr>\n",
              "      <th>2</th>\n",
              "      <td>MED</td>\n",
              "      <td>0</td>\n",
              "      <td>86</td>\n",
              "    </tr>\n",
              "    <tr>\n",
              "      <th>3</th>\n",
              "      <td>NMED</td>\n",
              "      <td>0</td>\n",
              "      <td>6</td>\n",
              "    </tr>\n",
              "    <tr>\n",
              "      <th>4</th>\n",
              "      <td>OMED</td>\n",
              "      <td>0</td>\n",
              "      <td>12</td>\n",
              "    </tr>\n",
              "    <tr>\n",
              "      <th>5</th>\n",
              "      <td>TRAUM</td>\n",
              "      <td>0</td>\n",
              "      <td>4</td>\n",
              "    </tr>\n",
              "    <tr>\n",
              "      <th>6</th>\n",
              "      <td>CSURG</td>\n",
              "      <td>1</td>\n",
              "      <td>5</td>\n",
              "    </tr>\n",
              "    <tr>\n",
              "      <th>7</th>\n",
              "      <td>NSURG</td>\n",
              "      <td>1</td>\n",
              "      <td>5</td>\n",
              "    </tr>\n",
              "    <tr>\n",
              "      <th>8</th>\n",
              "      <td>ORTHO</td>\n",
              "      <td>1</td>\n",
              "      <td>1</td>\n",
              "    </tr>\n",
              "    <tr>\n",
              "      <th>9</th>\n",
              "      <td>SURG</td>\n",
              "      <td>1</td>\n",
              "      <td>14</td>\n",
              "    </tr>\n",
              "    <tr>\n",
              "      <th>10</th>\n",
              "      <td>TSURG</td>\n",
              "      <td>1</td>\n",
              "      <td>6</td>\n",
              "    </tr>\n",
              "    <tr>\n",
              "      <th>11</th>\n",
              "      <td>VSURG</td>\n",
              "      <td>1</td>\n",
              "      <td>2</td>\n",
              "    </tr>\n",
              "  </tbody>\n",
              "</table>\n",
              "</div>"
            ],
            "text/plain": [
              "   curr_service  surgical  num_hadm\n",
              "0          CMED         0        13\n",
              "1            GU         0         1\n",
              "2           MED         0        86\n",
              "3          NMED         0         6\n",
              "4          OMED         0        12\n",
              "5         TRAUM         0         4\n",
              "6         CSURG         1         5\n",
              "7         NSURG         1         5\n",
              "8         ORTHO         1         1\n",
              "9          SURG         1        14\n",
              "10        TSURG         1         6\n",
              "11        VSURG         1         2"
            ]
          },
          "metadata": {
            "tags": []
          },
          "execution_count": 15
        }
      ]
    },
    {
      "metadata": {
        "id": "QbNnRIVmeRvZ",
        "colab_type": "text"
      },
      "cell_type": "markdown",
      "source": [
        "With this understanding of service types, we are now ready to join the `icustays` table with the `services` table to identify what serives ICU patients are undergoing."
      ]
    },
    {
      "metadata": {
        "id": "YVeU0Irleu3a",
        "colab_type": "code",
        "colab": {
          "autoexec": {
            "startup": false,
            "wait_interval": 0
          },
          "base_uri": "https://localhost:8080/",
          "height": 359
        },
        "outputId": "f8bbff3e-b529-4851-aee7-a82670c7f4d9",
        "executionInfo": {
          "status": "ok",
          "timestamp": 1523911080736,
          "user_tz": 240,
          "elapsed": 2463,
          "user": {
            "displayName": "Datathon Admin",
            "photoUrl": "https://lh3.googleusercontent.com/a/default-user=s128",
            "userId": "113393093228139921598"
          }
        }
      },
      "cell_type": "code",
      "source": [
        "run_query('''\n",
        "SELECT\n",
        "  icu.hadm_id,\n",
        "  icu.icustay_id,\n",
        "  curr_service,\n",
        "  IF(curr_service like '%SURG' OR curr_service = 'ORTHO', 1, 0) AS surgical\n",
        "FROM mimic_demo.icustays AS icu\n",
        "LEFT JOIN mimic_demo.services AS se\n",
        "  ON icu.hadm_id = se.hadm_id\n",
        "ORDER BY icustay_id\n",
        "LIMIT 10\n",
        "''')\n"
      ],
      "execution_count": 16,
      "outputs": [
        {
          "output_type": "execute_result",
          "data": {
            "text/html": [
              "<div>\n",
              "<style scoped>\n",
              "    .dataframe tbody tr th:only-of-type {\n",
              "        vertical-align: middle;\n",
              "    }\n",
              "\n",
              "    .dataframe tbody tr th {\n",
              "        vertical-align: top;\n",
              "    }\n",
              "\n",
              "    .dataframe thead th {\n",
              "        text-align: right;\n",
              "    }\n",
              "</style>\n",
              "<table border=\"1\" class=\"dataframe\">\n",
              "  <thead>\n",
              "    <tr style=\"text-align: right;\">\n",
              "      <th></th>\n",
              "      <th>hadm_id</th>\n",
              "      <th>icustay_id</th>\n",
              "      <th>curr_service</th>\n",
              "      <th>surgical</th>\n",
              "    </tr>\n",
              "  </thead>\n",
              "  <tbody>\n",
              "    <tr>\n",
              "      <th>0</th>\n",
              "      <td>198503</td>\n",
              "      <td>201006</td>\n",
              "      <td>MED</td>\n",
              "      <td>0</td>\n",
              "    </tr>\n",
              "    <tr>\n",
              "      <th>1</th>\n",
              "      <td>198503</td>\n",
              "      <td>201006</td>\n",
              "      <td>OMED</td>\n",
              "      <td>0</td>\n",
              "    </tr>\n",
              "    <tr>\n",
              "      <th>2</th>\n",
              "      <td>114648</td>\n",
              "      <td>201204</td>\n",
              "      <td>VSURG</td>\n",
              "      <td>1</td>\n",
              "    </tr>\n",
              "    <tr>\n",
              "      <th>3</th>\n",
              "      <td>114648</td>\n",
              "      <td>201204</td>\n",
              "      <td>CMED</td>\n",
              "      <td>0</td>\n",
              "    </tr>\n",
              "    <tr>\n",
              "      <th>4</th>\n",
              "      <td>126949</td>\n",
              "      <td>203766</td>\n",
              "      <td>MED</td>\n",
              "      <td>0</td>\n",
              "    </tr>\n",
              "    <tr>\n",
              "      <th>5</th>\n",
              "      <td>126949</td>\n",
              "      <td>203766</td>\n",
              "      <td>SURG</td>\n",
              "      <td>1</td>\n",
              "    </tr>\n",
              "    <tr>\n",
              "      <th>6</th>\n",
              "      <td>157609</td>\n",
              "      <td>204132</td>\n",
              "      <td>MED</td>\n",
              "      <td>0</td>\n",
              "    </tr>\n",
              "    <tr>\n",
              "      <th>7</th>\n",
              "      <td>177678</td>\n",
              "      <td>204201</td>\n",
              "      <td>MED</td>\n",
              "      <td>0</td>\n",
              "    </tr>\n",
              "    <tr>\n",
              "      <th>8</th>\n",
              "      <td>199207</td>\n",
              "      <td>204881</td>\n",
              "      <td>MED</td>\n",
              "      <td>0</td>\n",
              "    </tr>\n",
              "    <tr>\n",
              "      <th>9</th>\n",
              "      <td>173269</td>\n",
              "      <td>205170</td>\n",
              "      <td>MED</td>\n",
              "      <td>0</td>\n",
              "    </tr>\n",
              "  </tbody>\n",
              "</table>\n",
              "</div>"
            ],
            "text/plain": [
              "   hadm_id  icustay_id curr_service  surgical\n",
              "0   198503      201006          MED         0\n",
              "1   198503      201006         OMED         0\n",
              "2   114648      201204        VSURG         1\n",
              "3   114648      201204         CMED         0\n",
              "4   126949      203766          MED         0\n",
              "5   126949      203766         SURG         1\n",
              "6   157609      204132          MED         0\n",
              "7   177678      204201          MED         0\n",
              "8   199207      204881          MED         0\n",
              "9   173269      205170          MED         0"
            ]
          },
          "metadata": {
            "tags": []
          },
          "execution_count": 16
        }
      ]
    },
    {
      "metadata": {
        "id": "tJPo-TSZfs-T",
        "colab_type": "text"
      },
      "cell_type": "markdown",
      "source": [
        "Notice that for a single ICU stay, there may be multiple services. The following query finds the first service from ICU stays from patients, and indicates whether the last service before ICU admission was surgical."
      ]
    },
    {
      "metadata": {
        "id": "1S7R49uhgRu9",
        "colab_type": "code",
        "colab": {
          "autoexec": {
            "startup": false,
            "wait_interval": 0
          },
          "base_uri": "https://localhost:8080/",
          "height": 328
        },
        "outputId": "f2fce770-551b-4a1c-84b1-08e7affdfb84",
        "executionInfo": {
          "status": "ok",
          "timestamp": 1523911086000,
          "user_tz": 240,
          "elapsed": 3029,
          "user": {
            "displayName": "Datathon Admin",
            "photoUrl": "https://lh3.googleusercontent.com/a/default-user=s128",
            "userId": "113393093228139921598"
          }
        }
      },
      "cell_type": "code",
      "source": [
        "run_query('''\n",
        "WITH serv AS (\n",
        "  SELECT\n",
        "    icu.hadm_id,\n",
        "    icu.icustay_id,\n",
        "    se.curr_service,\n",
        "    IF(curr_service like '%SURG' OR curr_service = 'ORTHO', 1, 0) AS surgical,\n",
        "    RANK() OVER (PARTITION BY icu.hadm_id ORDER BY se.transfertime DESC) as rank\n",
        "  FROM mimic_demo.icustays AS icu\n",
        "  LEFT JOIN mimic_demo.services AS se\n",
        "   ON icu.hadm_id = se.hadm_id\n",
        "  AND se.transfertime < TIMESTAMP_ADD(icu.intime, INTERVAL 12 HOUR)\n",
        "  ORDER BY icustay_id\n",
        "  LIMIT 10)\n",
        "SELECT\n",
        "  hadm_id,\n",
        "  icustay_id,\n",
        "  curr_service,\n",
        "  surgical\n",
        "FROM serv\n",
        "WHERE rank = 1\n",
        "''')"
      ],
      "execution_count": 17,
      "outputs": [
        {
          "output_type": "execute_result",
          "data": {
            "text/html": [
              "<div>\n",
              "<style scoped>\n",
              "    .dataframe tbody tr th:only-of-type {\n",
              "        vertical-align: middle;\n",
              "    }\n",
              "\n",
              "    .dataframe tbody tr th {\n",
              "        vertical-align: top;\n",
              "    }\n",
              "\n",
              "    .dataframe thead th {\n",
              "        text-align: right;\n",
              "    }\n",
              "</style>\n",
              "<table border=\"1\" class=\"dataframe\">\n",
              "  <thead>\n",
              "    <tr style=\"text-align: right;\">\n",
              "      <th></th>\n",
              "      <th>hadm_id</th>\n",
              "      <th>icustay_id</th>\n",
              "      <th>curr_service</th>\n",
              "      <th>surgical</th>\n",
              "    </tr>\n",
              "  </thead>\n",
              "  <tbody>\n",
              "    <tr>\n",
              "      <th>0</th>\n",
              "      <td>198503</td>\n",
              "      <td>201006</td>\n",
              "      <td>MED</td>\n",
              "      <td>0</td>\n",
              "    </tr>\n",
              "    <tr>\n",
              "      <th>1</th>\n",
              "      <td>114648</td>\n",
              "      <td>201204</td>\n",
              "      <td>VSURG</td>\n",
              "      <td>1</td>\n",
              "    </tr>\n",
              "    <tr>\n",
              "      <th>2</th>\n",
              "      <td>126949</td>\n",
              "      <td>203766</td>\n",
              "      <td>MED</td>\n",
              "      <td>0</td>\n",
              "    </tr>\n",
              "    <tr>\n",
              "      <th>3</th>\n",
              "      <td>157609</td>\n",
              "      <td>204132</td>\n",
              "      <td>MED</td>\n",
              "      <td>0</td>\n",
              "    </tr>\n",
              "    <tr>\n",
              "      <th>4</th>\n",
              "      <td>177678</td>\n",
              "      <td>204201</td>\n",
              "      <td>MED</td>\n",
              "      <td>0</td>\n",
              "    </tr>\n",
              "    <tr>\n",
              "      <th>5</th>\n",
              "      <td>199207</td>\n",
              "      <td>204881</td>\n",
              "      <td>MED</td>\n",
              "      <td>0</td>\n",
              "    </tr>\n",
              "    <tr>\n",
              "      <th>6</th>\n",
              "      <td>173269</td>\n",
              "      <td>205170</td>\n",
              "      <td>MED</td>\n",
              "      <td>0</td>\n",
              "    </tr>\n",
              "    <tr>\n",
              "      <th>7</th>\n",
              "      <td>165436</td>\n",
              "      <td>205589</td>\n",
              "      <td>SURG</td>\n",
              "      <td>1</td>\n",
              "    </tr>\n",
              "    <tr>\n",
              "      <th>8</th>\n",
              "      <td>142345</td>\n",
              "      <td>206504</td>\n",
              "      <td>MED</td>\n",
              "      <td>0</td>\n",
              "    </tr>\n",
              "  </tbody>\n",
              "</table>\n",
              "</div>"
            ],
            "text/plain": [
              "   hadm_id  icustay_id curr_service  surgical\n",
              "0   198503      201006          MED         0\n",
              "1   114648      201204        VSURG         1\n",
              "2   126949      203766          MED         0\n",
              "3   157609      204132          MED         0\n",
              "4   177678      204201          MED         0\n",
              "5   199207      204881          MED         0\n",
              "6   173269      205170          MED         0\n",
              "7   165436      205589         SURG         1\n",
              "8   142345      206504          MED         0"
            ]
          },
          "metadata": {
            "tags": []
          },
          "execution_count": 17
        }
      ]
    },
    {
      "metadata": {
        "id": "ghFm6KEaiANY",
        "colab_type": "text"
      },
      "cell_type": "markdown",
      "source": [
        "Finally, we are ready to add this surgical exclusion label to the cohort generation table we had before by joining the two tables. For the convenience of later analysis, we rename some columns, and filter out patients more than 100 years old."
      ]
    },
    {
      "metadata": {
        "id": "VGHtwteoiVkD",
        "colab_type": "code",
        "colab": {
          "autoexec": {
            "startup": false,
            "wait_interval": 0
          },
          "base_uri": "https://localhost:8080/",
          "height": 222
        },
        "outputId": "f35b1a75-2541-4ffe-8303-9af8939ce9bf",
        "executionInfo": {
          "status": "ok",
          "timestamp": 1523911093362,
          "user_tz": 240,
          "elapsed": 4380,
          "user": {
            "displayName": "Datathon Admin",
            "photoUrl": "https://lh3.googleusercontent.com/a/default-user=s128",
            "userId": "113393093228139921598"
          }
        }
      },
      "cell_type": "code",
      "source": [
        "df = run_query('''\n",
        "WITH co AS (\n",
        "  SELECT\n",
        "    icu.subject_id,\n",
        "    icu.hadm_id,\n",
        "    icu.icustay_id,\n",
        "    pat.dob,\n",
        "    TIMESTAMP_DIFF(icu.outtime, icu.intime, DAY) AS icu_length_of_stay,\n",
        "    DATE_DIFF(DATE(icu.intime), DATE(pat.dob), YEAR) AS age,\n",
        "    RANK() OVER (PARTITION BY icu.subject_id ORDER BY icu.intime) AS icustay_id_order\n",
        "  FROM mimic_demo.icustays AS icu\n",
        "  INNER JOIN mimic_demo.patients AS pat\n",
        "    ON icu.subject_id = pat.subject_id\n",
        "  ORDER BY hadm_id DESC),\n",
        "serv AS (\n",
        "  SELECT\n",
        "    icu.hadm_id,\n",
        "    icu.icustay_id,\n",
        "    se.curr_service,\n",
        "    IF(curr_service like '%SURG' OR curr_service = 'ORTHO', 1, 0) AS surgical,\n",
        "    RANK() OVER (PARTITION BY icu.hadm_id ORDER BY se.transfertime DESC) as rank\n",
        "  FROM mimic_demo.icustays AS icu\n",
        "  LEFT JOIN mimic_demo.services AS se\n",
        "   ON icu.hadm_id = se.hadm_id\n",
        "  AND se.transfertime < TIMESTAMP_ADD(icu.intime, INTERVAL 12 HOUR)\n",
        "  ORDER BY icustay_id)\n",
        "SELECT\n",
        "  co.subject_id,\n",
        "  co.hadm_id,\n",
        "  co.icustay_id,\n",
        "  co.icu_length_of_stay,\n",
        "  co.age,\n",
        "  IF(co.icu_length_of_stay < 2, 1, 0) AS short_stay,\n",
        "  IF(co.icustay_id_order = 1, 0, 1) AS first_stay,\n",
        "  IF(serv.surgical = 1, 1, 0) AS surgical\n",
        "FROM co\n",
        "LEFT JOIN serv USING (icustay_id, hadm_id)\n",
        "WHERE\n",
        "  serv.rank = 1 AND age < 100\n",
        "ORDER BY subject_id, icustay_id_order\n",
        "''')\n",
        "\n",
        "print 'Number of rows in dataframe: %d' % len(df)\n",
        "df.head()"
      ],
      "execution_count": 18,
      "outputs": [
        {
          "output_type": "stream",
          "text": [
            "Number of rows in dataframe: 127\n"
          ],
          "name": "stdout"
        },
        {
          "output_type": "execute_result",
          "data": {
            "text/html": [
              "<div>\n",
              "<style scoped>\n",
              "    .dataframe tbody tr th:only-of-type {\n",
              "        vertical-align: middle;\n",
              "    }\n",
              "\n",
              "    .dataframe tbody tr th {\n",
              "        vertical-align: top;\n",
              "    }\n",
              "\n",
              "    .dataframe thead th {\n",
              "        text-align: right;\n",
              "    }\n",
              "</style>\n",
              "<table border=\"1\" class=\"dataframe\">\n",
              "  <thead>\n",
              "    <tr style=\"text-align: right;\">\n",
              "      <th></th>\n",
              "      <th>subject_id</th>\n",
              "      <th>hadm_id</th>\n",
              "      <th>icustay_id</th>\n",
              "      <th>icu_length_of_stay</th>\n",
              "      <th>age</th>\n",
              "      <th>short_stay</th>\n",
              "      <th>first_stay</th>\n",
              "      <th>surgical</th>\n",
              "    </tr>\n",
              "  </thead>\n",
              "  <tbody>\n",
              "    <tr>\n",
              "      <th>0</th>\n",
              "      <td>10006</td>\n",
              "      <td>142345</td>\n",
              "      <td>206504</td>\n",
              "      <td>1</td>\n",
              "      <td>70</td>\n",
              "      <td>1</td>\n",
              "      <td>0</td>\n",
              "      <td>0</td>\n",
              "    </tr>\n",
              "    <tr>\n",
              "      <th>1</th>\n",
              "      <td>10011</td>\n",
              "      <td>105331</td>\n",
              "      <td>232110</td>\n",
              "      <td>13</td>\n",
              "      <td>36</td>\n",
              "      <td>0</td>\n",
              "      <td>0</td>\n",
              "      <td>0</td>\n",
              "    </tr>\n",
              "    <tr>\n",
              "      <th>2</th>\n",
              "      <td>10013</td>\n",
              "      <td>165520</td>\n",
              "      <td>264446</td>\n",
              "      <td>2</td>\n",
              "      <td>87</td>\n",
              "      <td>0</td>\n",
              "      <td>0</td>\n",
              "      <td>0</td>\n",
              "    </tr>\n",
              "    <tr>\n",
              "      <th>3</th>\n",
              "      <td>10017</td>\n",
              "      <td>199207</td>\n",
              "      <td>204881</td>\n",
              "      <td>2</td>\n",
              "      <td>74</td>\n",
              "      <td>0</td>\n",
              "      <td>0</td>\n",
              "      <td>0</td>\n",
              "    </tr>\n",
              "    <tr>\n",
              "      <th>4</th>\n",
              "      <td>10019</td>\n",
              "      <td>177759</td>\n",
              "      <td>228977</td>\n",
              "      <td>1</td>\n",
              "      <td>49</td>\n",
              "      <td>1</td>\n",
              "      <td>0</td>\n",
              "      <td>0</td>\n",
              "    </tr>\n",
              "  </tbody>\n",
              "</table>\n",
              "</div>"
            ],
            "text/plain": [
              "   subject_id  hadm_id  icustay_id  icu_length_of_stay  age  short_stay  \\\n",
              "0       10006   142345      206504                   1   70           1   \n",
              "1       10011   105331      232110                  13   36           0   \n",
              "2       10013   165520      264446                   2   87           0   \n",
              "3       10017   199207      204881                   2   74           0   \n",
              "4       10019   177759      228977                   1   49           1   \n",
              "\n",
              "   first_stay  surgical  \n",
              "0           0         0  \n",
              "1           0         0  \n",
              "2           0         0  \n",
              "3           0         0  \n",
              "4           0         0  "
            ]
          },
          "metadata": {
            "tags": []
          },
          "execution_count": 18
        }
      ]
    },
    {
      "metadata": {
        "id": "zZimuvTO5CQM",
        "colab_type": "text"
      },
      "cell_type": "markdown",
      "source": [
        "The [original MIMIC tutorial](https://github.com/MIT-LCP/mimic-code/blob/master/tutorials/cohort-selection.ipynb), also showed why the `first_careunit` field of the `icustays` table is not always the same as the surgical bit derived from the `services` table. It also demonstrated how the pandas dataframes returned from the BigQuery queries can be further processed in Python for summarization. We will not redo those analyses here, believing that you should reproduce those results easily here with Colab by now.\n",
        "\n",
        "Instead, we will show an example of using [Tensorflow](https://www.tensorflow.org/) to build a simple predictor, where we use the patient's age and whether it is the first ICU stay to predict whether the ICU stay will be a short one. With only 127 data points in total, we don't expect to actually build an accurate or useful predictor, but it should serve the purpose of showing how a model can be trained and used using Tensorflow within Colab.\n",
        "\n",
        "First, let us split the 127 data points into a training set with 100 records and a testing set with 27, and examine the distribution of the split sets to make sure that the distribution is similar."
      ]
    },
    {
      "metadata": {
        "id": "1QrkAQkXWHDY",
        "colab_type": "code",
        "colab": {
          "autoexec": {
            "startup": false,
            "wait_interval": 0
          },
          "base_uri": "https://localhost:8080/",
          "height": 613
        },
        "outputId": "b16b1dc6-15f1-44db-a86a-5438cd224ff8",
        "executionInfo": {
          "status": "ok",
          "timestamp": 1523911096724,
          "user_tz": 240,
          "elapsed": 261,
          "user": {
            "displayName": "Datathon Admin",
            "photoUrl": "https://lh3.googleusercontent.com/a/default-user=s128",
            "userId": "113393093228139921598"
          }
        }
      },
      "cell_type": "code",
      "source": [
        "data = df[['age', 'first_stay', 'short_stay']]\n",
        "data.reindex(np.random.permutation(data.index))\n",
        "training_df=data.head(100)\n",
        "validation_df=data.tail(27)\n",
        "\n",
        "print \"Training data summary:\"\n",
        "display(training_df.describe())\n",
        "\n",
        "print \"Validation data summary:\"\n",
        "display(validation_df.describe())"
      ],
      "execution_count": 19,
      "outputs": [
        {
          "output_type": "stream",
          "text": [
            "Training data summary:\n"
          ],
          "name": "stdout"
        },
        {
          "output_type": "display_data",
          "data": {
            "text/plain": [
              "              age  first_stay  short_stay\n",
              "count  100.000000  100.000000  100.000000\n",
              "mean    68.730000    0.290000    0.410000\n",
              "std     16.337263    0.456048    0.494311\n",
              "min     17.000000    0.000000    0.000000\n",
              "25%     64.000000    0.000000    0.000000\n",
              "50%     70.500000    0.000000    0.000000\n",
              "75%     81.000000    1.000000    1.000000\n",
              "max     89.000000    1.000000    1.000000"
            ],
            "text/html": [
              "<div>\n",
              "<style scoped>\n",
              "    .dataframe tbody tr th:only-of-type {\n",
              "        vertical-align: middle;\n",
              "    }\n",
              "\n",
              "    .dataframe tbody tr th {\n",
              "        vertical-align: top;\n",
              "    }\n",
              "\n",
              "    .dataframe thead th {\n",
              "        text-align: right;\n",
              "    }\n",
              "</style>\n",
              "<table border=\"1\" class=\"dataframe\">\n",
              "  <thead>\n",
              "    <tr style=\"text-align: right;\">\n",
              "      <th></th>\n",
              "      <th>age</th>\n",
              "      <th>first_stay</th>\n",
              "      <th>short_stay</th>\n",
              "    </tr>\n",
              "  </thead>\n",
              "  <tbody>\n",
              "    <tr>\n",
              "      <th>count</th>\n",
              "      <td>100.000000</td>\n",
              "      <td>100.000000</td>\n",
              "      <td>100.000000</td>\n",
              "    </tr>\n",
              "    <tr>\n",
              "      <th>mean</th>\n",
              "      <td>68.730000</td>\n",
              "      <td>0.290000</td>\n",
              "      <td>0.410000</td>\n",
              "    </tr>\n",
              "    <tr>\n",
              "      <th>std</th>\n",
              "      <td>16.337263</td>\n",
              "      <td>0.456048</td>\n",
              "      <td>0.494311</td>\n",
              "    </tr>\n",
              "    <tr>\n",
              "      <th>min</th>\n",
              "      <td>17.000000</td>\n",
              "      <td>0.000000</td>\n",
              "      <td>0.000000</td>\n",
              "    </tr>\n",
              "    <tr>\n",
              "      <th>25%</th>\n",
              "      <td>64.000000</td>\n",
              "      <td>0.000000</td>\n",
              "      <td>0.000000</td>\n",
              "    </tr>\n",
              "    <tr>\n",
              "      <th>50%</th>\n",
              "      <td>70.500000</td>\n",
              "      <td>0.000000</td>\n",
              "      <td>0.000000</td>\n",
              "    </tr>\n",
              "    <tr>\n",
              "      <th>75%</th>\n",
              "      <td>81.000000</td>\n",
              "      <td>1.000000</td>\n",
              "      <td>1.000000</td>\n",
              "    </tr>\n",
              "    <tr>\n",
              "      <th>max</th>\n",
              "      <td>89.000000</td>\n",
              "      <td>1.000000</td>\n",
              "      <td>1.000000</td>\n",
              "    </tr>\n",
              "  </tbody>\n",
              "</table>\n",
              "</div>"
            ]
          },
          "metadata": {
            "tags": []
          }
        },
        {
          "output_type": "stream",
          "text": [
            "Validation data summary:\n"
          ],
          "name": "stdout"
        },
        {
          "output_type": "display_data",
          "data": {
            "text/plain": [
              "             age  first_stay  short_stay\n",
              "count  27.000000   27.000000   27.000000\n",
              "mean   72.111111    0.222222    0.629630\n",
              "std    13.951381    0.423659    0.492103\n",
              "min    45.000000    0.000000    0.000000\n",
              "25%    56.500000    0.000000    0.000000\n",
              "50%    79.000000    0.000000    1.000000\n",
              "75%    82.000000    0.000000    1.000000\n",
              "max    89.000000    1.000000    1.000000"
            ],
            "text/html": [
              "<div>\n",
              "<style scoped>\n",
              "    .dataframe tbody tr th:only-of-type {\n",
              "        vertical-align: middle;\n",
              "    }\n",
              "\n",
              "    .dataframe tbody tr th {\n",
              "        vertical-align: top;\n",
              "    }\n",
              "\n",
              "    .dataframe thead th {\n",
              "        text-align: right;\n",
              "    }\n",
              "</style>\n",
              "<table border=\"1\" class=\"dataframe\">\n",
              "  <thead>\n",
              "    <tr style=\"text-align: right;\">\n",
              "      <th></th>\n",
              "      <th>age</th>\n",
              "      <th>first_stay</th>\n",
              "      <th>short_stay</th>\n",
              "    </tr>\n",
              "  </thead>\n",
              "  <tbody>\n",
              "    <tr>\n",
              "      <th>count</th>\n",
              "      <td>27.000000</td>\n",
              "      <td>27.000000</td>\n",
              "      <td>27.000000</td>\n",
              "    </tr>\n",
              "    <tr>\n",
              "      <th>mean</th>\n",
              "      <td>72.111111</td>\n",
              "      <td>0.222222</td>\n",
              "      <td>0.629630</td>\n",
              "    </tr>\n",
              "    <tr>\n",
              "      <th>std</th>\n",
              "      <td>13.951381</td>\n",
              "      <td>0.423659</td>\n",
              "      <td>0.492103</td>\n",
              "    </tr>\n",
              "    <tr>\n",
              "      <th>min</th>\n",
              "      <td>45.000000</td>\n",
              "      <td>0.000000</td>\n",
              "      <td>0.000000</td>\n",
              "    </tr>\n",
              "    <tr>\n",
              "      <th>25%</th>\n",
              "      <td>56.500000</td>\n",
              "      <td>0.000000</td>\n",
              "      <td>0.000000</td>\n",
              "    </tr>\n",
              "    <tr>\n",
              "      <th>50%</th>\n",
              "      <td>79.000000</td>\n",
              "      <td>0.000000</td>\n",
              "      <td>1.000000</td>\n",
              "    </tr>\n",
              "    <tr>\n",
              "      <th>75%</th>\n",
              "      <td>82.000000</td>\n",
              "      <td>0.000000</td>\n",
              "      <td>1.000000</td>\n",
              "    </tr>\n",
              "    <tr>\n",
              "      <th>max</th>\n",
              "      <td>89.000000</td>\n",
              "      <td>1.000000</td>\n",
              "      <td>1.000000</td>\n",
              "    </tr>\n",
              "  </tbody>\n",
              "</table>\n",
              "</div>"
            ]
          },
          "metadata": {
            "tags": []
          }
        }
      ]
    },
    {
      "metadata": {
        "id": "nf_HtwLJZiHQ",
        "colab_type": "text"
      },
      "cell_type": "markdown",
      "source": [
        "And let's quickly check the label distribution for the features."
      ]
    },
    {
      "metadata": {
        "id": "XxclfDP8AEQa",
        "colab_type": "code",
        "colab": {
          "autoexec": {
            "startup": false,
            "wait_interval": 0
          },
          "base_uri": "https://localhost:8080/",
          "height": 585
        },
        "outputId": "c8a48992-5cda-4502-e215-b247f498c90d",
        "executionInfo": {
          "status": "ok",
          "timestamp": 1523911100334,
          "user_tz": 240,
          "elapsed": 514,
          "user": {
            "displayName": "Datathon Admin",
            "photoUrl": "https://lh3.googleusercontent.com/a/default-user=s128",
            "userId": "113393093228139921598"
          }
        }
      },
      "cell_type": "code",
      "source": [
        "display(training_df.groupby(['short_stay', 'first_stay']).count())\n",
        "\n",
        "fig, ax = plt.subplots()\n",
        "shorts = training_df[training_df.short_stay==1].age \n",
        "longs = training_df[training_df.short_stay==0].age \n",
        "colors = ['b', 'g']\n",
        "ax.hist([shorts, longs], bins=10, color=colors, label=['short_stay=1', 'short_stay=0'])\n",
        "ax.set_xlabel('Age')\n",
        "ax.set_ylabel('Number of Patients')\n",
        "plt.legend(loc='upper left')\n",
        "plt.show()"
      ],
      "execution_count": 20,
      "outputs": [
        {
          "output_type": "display_data",
          "data": {
            "text/plain": [
              "                       age\n",
              "short_stay first_stay     \n",
              "0          0            42\n",
              "           1            17\n",
              "1          0            29\n",
              "           1            12"
            ],
            "text/html": [
              "<div>\n",
              "<style scoped>\n",
              "    .dataframe tbody tr th:only-of-type {\n",
              "        vertical-align: middle;\n",
              "    }\n",
              "\n",
              "    .dataframe tbody tr th {\n",
              "        vertical-align: top;\n",
              "    }\n",
              "\n",
              "    .dataframe thead th {\n",
              "        text-align: right;\n",
              "    }\n",
              "</style>\n",
              "<table border=\"1\" class=\"dataframe\">\n",
              "  <thead>\n",
              "    <tr style=\"text-align: right;\">\n",
              "      <th></th>\n",
              "      <th></th>\n",
              "      <th>age</th>\n",
              "    </tr>\n",
              "    <tr>\n",
              "      <th>short_stay</th>\n",
              "      <th>first_stay</th>\n",
              "      <th></th>\n",
              "    </tr>\n",
              "  </thead>\n",
              "  <tbody>\n",
              "    <tr>\n",
              "      <th rowspan=\"2\" valign=\"top\">0</th>\n",
              "      <th>0</th>\n",
              "      <td>42</td>\n",
              "    </tr>\n",
              "    <tr>\n",
              "      <th>1</th>\n",
              "      <td>17</td>\n",
              "    </tr>\n",
              "    <tr>\n",
              "      <th rowspan=\"2\" valign=\"top\">1</th>\n",
              "      <th>0</th>\n",
              "      <td>29</td>\n",
              "    </tr>\n",
              "    <tr>\n",
              "      <th>1</th>\n",
              "      <td>12</td>\n",
              "    </tr>\n",
              "  </tbody>\n",
              "</table>\n",
              "</div>"
            ]
          },
          "metadata": {
            "tags": []
          }
        },
        {
          "output_type": "stream",
          "text": [
            "/usr/local/lib/python2.7/dist-packages/numpy/core/fromnumeric.py:52: FutureWarning: reshape is deprecated and will raise in a subsequent release. Please use .values.reshape(...) instead\n",
            "  return getattr(obj, method)(*args, **kwds)\n"
          ],
          "name": "stderr"
        },
        {
          "output_type": "display_data",
          "data": {
            "image/png": "[encoded data removed]",
            "text/plain": [
              "<matplotlib.figure.Figure at 0x7f52b74bdf10>"
            ]
          },
          "metadata": {
            "tags": []
          }
        }
      ]
    },
    {
      "metadata": {
        "id": "VikeQqTrmh56",
        "colab_type": "text"
      },
      "cell_type": "markdown",
      "source": [
        "Let's first build a linear regression model to predict the numeric value of \"short_stay\" based on `age` and `first_stay` features. You can tune the parameters on the right-hand side and observe differences in the evaluation result."
      ]
    },
    {
      "metadata": {
        "id": "9fLgs7wlVkHE",
        "colab_type": "code",
        "colab": {
          "autoexec": {
            "startup": false,
            "wait_interval": 0
          },
          "base_uri": "https://localhost:8080/",
          "height": 451
        },
        "outputId": "b86eef59-2332-43d7-9723-9712e4460aa2",
        "executionInfo": {
          "status": "ok",
          "timestamp": 1523911104734,
          "user_tz": 240,
          "elapsed": 2101,
          "user": {
            "displayName": "Datathon Admin",
            "photoUrl": "https://lh3.googleusercontent.com/a/default-user=s128",
            "userId": "113393093228139921598"
          }
        }
      },
      "cell_type": "code",
      "source": [
        "#@title Linear Regression Parameters {display-mode:\"both\"}\n",
        "BATCH_SIZE = 5 # @param\n",
        "NUM_EPOCHS = 100 # @param\n",
        "\n",
        "first_stay = tf.feature_column.numeric_column('first_stay')\n",
        "age = tf.feature_column.numeric_column('age')\n",
        "\n",
        "# Build linear regressor\n",
        "linear_regressor = tf.estimator.LinearRegressor(feature_columns=[first_stay, age])\n",
        "\n",
        "# Train the Model.\n",
        "model = linear_regressor.train(\n",
        "    input_fn=tf.estimator.inputs.pandas_input_fn(\n",
        "        x=training_df,\n",
        "        y=training_df['short_stay'],\n",
        "        num_epochs=100,\n",
        "        batch_size=BATCH_SIZE,\n",
        "        shuffle=True),\n",
        "    steps=100)\n",
        "\n",
        "# Evaluate the model.\n",
        "eval_result = linear_regressor.evaluate(\n",
        "    input_fn=tf.estimator.inputs.pandas_input_fn(\n",
        "        x=validation_df,\n",
        "        y=validation_df['short_stay'],\n",
        "        batch_size=BATCH_SIZE,\n",
        "        shuffle=False))\n",
        "\n",
        "display(eval_result)"
      ],
      "execution_count": 21,
      "outputs": [
        {
          "output_type": "stream",
          "text": [
            "INFO:tensorflow:Using default config.\n",
            "WARNING:tensorflow:Using temporary folder as model directory: /tmp/tmpOXDtzf\n",
            "INFO:tensorflow:Using config: {'_save_checkpoints_secs': 600, '_session_config': None, '_keep_checkpoint_max': 5, '_task_type': 'worker', '_global_id_in_cluster': 0, '_is_chief': True, '_cluster_spec': <tensorflow.python.training.server_lib.ClusterSpec object at 0x7f52b74ca950>, '_evaluation_master': '', '_save_checkpoints_steps': None, '_keep_checkpoint_every_n_hours': 10000, '_service': None, '_num_ps_replicas': 0, '_tf_random_seed': None, '_master': '', '_num_worker_replicas': 1, '_task_id': 0, '_log_step_count_steps': 100, '_model_dir': '/tmp/tmpOXDtzf', '_save_summary_steps': 100}\n",
            "INFO:tensorflow:Calling model_fn.\n",
            "INFO:tensorflow:Done calling model_fn.\n",
            "INFO:tensorflow:Create CheckpointSaverHook.\n",
            "INFO:tensorflow:Graph was finalized.\n",
            "INFO:tensorflow:Running local_init_op.\n",
            "INFO:tensorflow:Done running local_init_op.\n",
            "INFO:tensorflow:Saving checkpoints for 1 into /tmp/tmpOXDtzf/model.ckpt.\n",
            "INFO:tensorflow:loss = 1.0, step = 1\n",
            "INFO:tensorflow:Saving checkpoints for 100 into /tmp/tmpOXDtzf/model.ckpt.\n",
            "INFO:tensorflow:Loss for final step: 2.0580556.\n",
            "INFO:tensorflow:Calling model_fn.\n",
            "INFO:tensorflow:Done calling model_fn.\n",
            "INFO:tensorflow:Starting evaluation at 2018-04-16-20:38:24\n",
            "INFO:tensorflow:Graph was finalized.\n",
            "INFO:tensorflow:Restoring parameters from /tmp/tmpOXDtzf/model.ckpt-100\n",
            "INFO:tensorflow:Running local_init_op.\n",
            "INFO:tensorflow:Done running local_init_op.\n",
            "INFO:tensorflow:Finished evaluation at 2018-04-16-20:38:24\n",
            "INFO:tensorflow:Saving dict for global step 100: average_loss = 0.23896088, global_step = 100, loss = 1.0753239\n"
          ],
          "name": "stdout"
        },
        {
          "output_type": "display_data",
          "data": {
            "text/plain": [
              "{'average_loss': 0.23896088, 'global_step': 100, 'loss': 1.0753239}"
            ]
          },
          "metadata": {
            "tags": []
          }
        }
      ]
    },
    {
      "metadata": {
        "id": "C2hp7kCHnZnw",
        "colab_type": "text"
      },
      "cell_type": "markdown",
      "source": [
        "Remember that the label `short_stay` is actually categorical, with the value 1 for an ICU stay of 1 day or less and value 0 for stays of length 2 days or more. So a classification model better fits this task. Here we try a deep neural networks model using the `DNNClassifier` estimator. Notice the little changes from the regression code above."
      ]
    },
    {
      "metadata": {
        "id": "taWpf-QciNsN",
        "colab_type": "code",
        "colab": {
          "autoexec": {
            "startup": false,
            "wait_interval": 0
          },
          "base_uri": "https://localhost:8080/",
          "height": 595
        },
        "outputId": "848b9d2e-0c7e-4cbb-a25e-d34c6ca4a91c",
        "executionInfo": {
          "status": "ok",
          "timestamp": 1523911114792,
          "user_tz": 240,
          "elapsed": 3420,
          "user": {
            "displayName": "Datathon Admin",
            "photoUrl": "https://lh3.googleusercontent.com/a/default-user=s128",
            "userId": "113393093228139921598"
          }
        }
      },
      "cell_type": "code",
      "source": [
        "#@title ML Training example {display-mode:\"both\"}\n",
        "BATCH_SIZE = 5        # @param\n",
        "NUM_EPOCHS = 100       # @param\n",
        "HIDDEN_UNITS=[10, 10] # @param\n",
        "\n",
        "# Build linear regressor\n",
        "classifier = tf.estimator.DNNClassifier(\n",
        "    feature_columns=[first_stay, age],\n",
        "    hidden_units=HIDDEN_UNITS)\n",
        "\n",
        "# Train the Model.\n",
        "model = classifier.train(\n",
        "    input_fn=tf.estimator.inputs.pandas_input_fn(\n",
        "        x=training_df,\n",
        "        y=training_df['short_stay'],\n",
        "        num_epochs=100,\n",
        "        batch_size=BATCH_SIZE,\n",
        "        shuffle=True),\n",
        "    steps=100)\n",
        "\n",
        "# Evaluate the model.\n",
        "eval_result = classifier.evaluate(\n",
        "    input_fn=tf.estimator.inputs.pandas_input_fn(\n",
        "        x=validation_df,\n",
        "        y=validation_df['short_stay'],\n",
        "        batch_size=BATCH_SIZE,\n",
        "        shuffle=False))\n",
        "\n",
        "display(eval_result)"
      ],
      "execution_count": 22,
      "outputs": [
        {
          "output_type": "stream",
          "text": [
            "INFO:tensorflow:Using default config.\n",
            "WARNING:tensorflow:Using temporary folder as model directory: /tmp/tmpjIbQwt\n",
            "INFO:tensorflow:Using config: {'_save_checkpoints_secs': 600, '_session_config': None, '_keep_checkpoint_max': 5, '_task_type': 'worker', '_global_id_in_cluster': 0, '_is_chief': True, '_cluster_spec': <tensorflow.python.training.server_lib.ClusterSpec object at 0x7f52b2605c10>, '_evaluation_master': '', '_save_checkpoints_steps': None, '_keep_checkpoint_every_n_hours': 10000, '_service': None, '_num_ps_replicas': 0, '_tf_random_seed': None, '_master': '', '_num_worker_replicas': 1, '_task_id': 0, '_log_step_count_steps': 100, '_model_dir': '/tmp/tmpjIbQwt', '_save_summary_steps': 100}\n",
            "INFO:tensorflow:Calling model_fn.\n",
            "INFO:tensorflow:Done calling model_fn.\n",
            "INFO:tensorflow:Create CheckpointSaverHook.\n",
            "INFO:tensorflow:Graph was finalized.\n",
            "INFO:tensorflow:Running local_init_op.\n",
            "INFO:tensorflow:Done running local_init_op.\n",
            "INFO:tensorflow:Saving checkpoints for 1 into /tmp/tmpjIbQwt/model.ckpt.\n",
            "INFO:tensorflow:loss = 17.910744, step = 1\n",
            "INFO:tensorflow:Saving checkpoints for 100 into /tmp/tmpjIbQwt/model.ckpt.\n",
            "INFO:tensorflow:Loss for final step: 5.0307055.\n",
            "INFO:tensorflow:Calling model_fn.\n",
            "INFO:tensorflow:Done calling model_fn.\n",
            "INFO:tensorflow:Starting evaluation at 2018-04-16-20:38:33\n",
            "INFO:tensorflow:Graph was finalized.\n",
            "INFO:tensorflow:Restoring parameters from /tmp/tmpjIbQwt/model.ckpt-100\n",
            "INFO:tensorflow:Running local_init_op.\n",
            "INFO:tensorflow:Done running local_init_op.\n",
            "INFO:tensorflow:Finished evaluation at 2018-04-16-20:38:34\n",
            "INFO:tensorflow:Saving dict for global step 100: accuracy = 0.6296296, accuracy_baseline = 0.6296296, auc = 0.44411767, auc_precision_recall = 0.71786493, average_loss = 0.68928003, global_step = 100, label/mean = 0.6296296, loss = 3.1017601, prediction/mean = 0.5083194\n"
          ],
          "name": "stdout"
        },
        {
          "output_type": "display_data",
          "data": {
            "text/plain": [
              "{'accuracy': 0.6296296,\n",
              " 'accuracy_baseline': 0.6296296,\n",
              " 'auc': 0.44411767,\n",
              " 'auc_precision_recall': 0.71786493,\n",
              " 'average_loss': 0.68928003,\n",
              " 'global_step': 100,\n",
              " 'label/mean': 0.6296296,\n",
              " 'loss': 3.1017601,\n",
              " 'prediction/mean': 0.5083194}"
            ]
          },
          "metadata": {
            "tags": []
          }
        }
      ]
    },
    {
      "metadata": {
        "id": "Tlavnbk9Qs98",
        "colab_type": "text"
      },
      "cell_type": "markdown",
      "source": [
        "The ANZICS dataset also has some demo tables that you can explore. For example, in the `APD` and `CCR` tables, we can check the number of elements of certain types among the 100 demo records."
      ]
    },
    {
      "metadata": {
        "id": "GyaiOjlpQ7e6",
        "colab_type": "code",
        "colab": {
          "autoexec": {
            "startup": false,
            "wait_interval": 0
          },
          "base_uri": "https://localhost:8080/",
          "height": 173
        },
        "outputId": "68c83541-fc32-441b-9c60-86eaf938b9f8",
        "executionInfo": {
          "status": "ok",
          "timestamp": 1523912616323,
          "user_tz": 240,
          "elapsed": 3134,
          "user": {
            "displayName": "Datathon Admin",
            "photoUrl": "https://lh3.googleusercontent.com/a/default-user=s128",
            "userId": "113393093228139921598"
          }
        }
      },
      "cell_type": "code",
      "source": [
        "run_query('''\n",
        "SELECT\n",
        "  hospitalclassification AS Type,\n",
        "  COUNT(*) AS NumHospitals\n",
        "FROM anzics_demo.apd\n",
        "GROUP BY 1\n",
        "ORDER BY 2 DESC\n",
        "''')"
      ],
      "execution_count": 25,
      "outputs": [
        {
          "output_type": "execute_result",
          "data": {
            "text/html": [
              "<div>\n",
              "<style scoped>\n",
              "    .dataframe tbody tr th:only-of-type {\n",
              "        vertical-align: middle;\n",
              "    }\n",
              "\n",
              "    .dataframe tbody tr th {\n",
              "        vertical-align: top;\n",
              "    }\n",
              "\n",
              "    .dataframe thead th {\n",
              "        text-align: right;\n",
              "    }\n",
              "</style>\n",
              "<table border=\"1\" class=\"dataframe\">\n",
              "  <thead>\n",
              "    <tr style=\"text-align: right;\">\n",
              "      <th></th>\n",
              "      <th>Type</th>\n",
              "      <th>NumHospitals</th>\n",
              "    </tr>\n",
              "  </thead>\n",
              "  <tbody>\n",
              "    <tr>\n",
              "      <th>0</th>\n",
              "      <td>Tertiary</td>\n",
              "      <td>43</td>\n",
              "    </tr>\n",
              "    <tr>\n",
              "      <th>1</th>\n",
              "      <td>Rural / Regional</td>\n",
              "      <td>23</td>\n",
              "    </tr>\n",
              "    <tr>\n",
              "      <th>2</th>\n",
              "      <td>Private</td>\n",
              "      <td>20</td>\n",
              "    </tr>\n",
              "    <tr>\n",
              "      <th>3</th>\n",
              "      <td>Metropolitan</td>\n",
              "      <td>14</td>\n",
              "    </tr>\n",
              "  </tbody>\n",
              "</table>\n",
              "</div>"
            ],
            "text/plain": [
              "               Type  NumHospitals\n",
              "0          Tertiary            43\n",
              "1  Rural / Regional            23\n",
              "2           Private            20\n",
              "3      Metropolitan            14"
            ]
          },
          "metadata": {
            "tags": []
          },
          "execution_count": 25
        }
      ]
    },
    {
      "metadata": {
        "id": "wzLaeYMERg33",
        "colab_type": "code",
        "colab": {
          "autoexec": {
            "startup": false,
            "wait_interval": 0
          },
          "base_uri": "https://localhost:8080/",
          "height": 142
        },
        "outputId": "c474e576-fdd3-4b7f-a410-17d296a87111",
        "executionInfo": {
          "status": "ok",
          "timestamp": 1523912760436,
          "user_tz": 240,
          "elapsed": 2775,
          "user": {
            "displayName": "Datathon Admin",
            "photoUrl": "https://lh3.googleusercontent.com/a/default-user=s128",
            "userId": "113393093228139921598"
          }
        }
      },
      "cell_type": "code",
      "source": [
        "run_query('''\n",
        "SELECT\n",
        "  iculevelname AS ICU_Level,\n",
        "  COUNT(*) AS NumHospitals,\n",
        "  SUM(hospitalbeds) AS NumBeds\n",
        "FROM anzics_demo.ccr\n",
        "GROUP BY 1\n",
        "ORDER BY 2 DESC\n",
        "''')"
      ],
      "execution_count": 26,
      "outputs": [
        {
          "output_type": "execute_result",
          "data": {
            "text/html": [
              "<div>\n",
              "<style scoped>\n",
              "    .dataframe tbody tr th:only-of-type {\n",
              "        vertical-align: middle;\n",
              "    }\n",
              "\n",
              "    .dataframe tbody tr th {\n",
              "        vertical-align: top;\n",
              "    }\n",
              "\n",
              "    .dataframe thead th {\n",
              "        text-align: right;\n",
              "    }\n",
              "</style>\n",
              "<table border=\"1\" class=\"dataframe\">\n",
              "  <thead>\n",
              "    <tr style=\"text-align: right;\">\n",
              "      <th></th>\n",
              "      <th>ICU_Level</th>\n",
              "      <th>NumHospitals</th>\n",
              "      <th>NumBeds</th>\n",
              "    </tr>\n",
              "  </thead>\n",
              "  <tbody>\n",
              "    <tr>\n",
              "      <th>0</th>\n",
              "      <td>Level 2</td>\n",
              "      <td>38</td>\n",
              "      <td>8190</td>\n",
              "    </tr>\n",
              "    <tr>\n",
              "      <th>1</th>\n",
              "      <td>Level 3 / PICU</td>\n",
              "      <td>31</td>\n",
              "      <td>10574</td>\n",
              "    </tr>\n",
              "    <tr>\n",
              "      <th>2</th>\n",
              "      <td>Level 1</td>\n",
              "      <td>8</td>\n",
              "      <td>1318</td>\n",
              "    </tr>\n",
              "  </tbody>\n",
              "</table>\n",
              "</div>"
            ],
            "text/plain": [
              "        ICU_Level  NumHospitals  NumBeds\n",
              "0         Level 2            38     8190\n",
              "1  Level 3 / PICU            31    10574\n",
              "2         Level 1             8     1318"
            ]
          },
          "metadata": {
            "tags": []
          },
          "execution_count": 26
        }
      ]
    },
    {
      "metadata": {
        "id": "jJFAQSei8LpJ",
        "colab_type": "text"
      },
      "cell_type": "markdown",
      "source": [
        "Congratulations! Now you have finished this datathon tutorial, and ready to explore the real data by querying Google BigQuery. To do so, simply remove the `_demo` suffix in the dataset names.\n",
        "For example, the table `mimic_demo.icustays` becomes `mimic.icustays` when you need the actual MIMIC data. Now, let's do the substitution and, and start the real datathon exploration."
      ]
    },
    {
      "metadata": {
        "id": "9zTyxTS0a4az",
        "colab_type": "code",
        "colab": {
          "autoexec": {
            "startup": false,
            "wait_interval": 0
          },
          "base_uri": "https://localhost:8080/",
          "height": 80
        },
        "outputId": "38cc5540-52a5-446e-9875-9415336200fc",
        "executionInfo": {
          "status": "ok",
          "timestamp": 1523911272509,
          "user_tz": 240,
          "elapsed": 2829,
          "user": {
            "displayName": "Datathon Admin",
            "photoUrl": "https://lh3.googleusercontent.com/a/default-user=s128",
            "userId": "113393093228139921598"
          }
        }
      },
      "cell_type": "code",
      "source": [
        "run_query('''\n",
        "SELECT\n",
        "  COUNT(*) AS num_rows\n",
        "FROM\n",
        "  mimic.icustays\n",
        "''')"
      ],
      "execution_count": 23,
      "outputs": [
        {
          "output_type": "execute_result",
          "data": {
            "text/html": [
              "<div>\n",
              "<style scoped>\n",
              "    .dataframe tbody tr th:only-of-type {\n",
              "        vertical-align: middle;\n",
              "    }\n",
              "\n",
              "    .dataframe tbody tr th {\n",
              "        vertical-align: top;\n",
              "    }\n",
              "\n",
              "    .dataframe thead th {\n",
              "        text-align: right;\n",
              "    }\n",
              "</style>\n",
              "<table border=\"1\" class=\"dataframe\">\n",
              "  <thead>\n",
              "    <tr style=\"text-align: right;\">\n",
              "      <th></th>\n",
              "      <th>num_rows</th>\n",
              "    </tr>\n",
              "  </thead>\n",
              "  <tbody>\n",
              "    <tr>\n",
              "      <th>0</th>\n",
              "      <td>61532</td>\n",
              "    </tr>\n",
              "  </tbody>\n",
              "</table>\n",
              "</div>"
            ],
            "text/plain": [
              "   num_rows\n",
              "0     61532"
            ]
          },
          "metadata": {
            "tags": []
          },
          "execution_count": 23
        }
      ]
    },
    {
      "metadata": {
        "id": "J_z2dH2CZoCv",
        "colab_type": "code",
        "colab": {
          "autoexec": {
            "startup": false,
            "wait_interval": 0
          },
          "base_uri": "https://localhost:8080/",
          "height": 359
        },
        "outputId": "d0fb1e38-75ea-4510-9ab7-38dd59ad0bba",
        "executionInfo": {
          "status": "ok",
          "timestamp": 1523911288458,
          "user_tz": 240,
          "elapsed": 2740,
          "user": {
            "displayName": "Datathon Admin",
            "photoUrl": "https://lh3.googleusercontent.com/a/default-user=s128",
            "userId": "113393093228139921598"
          }
        }
      },
      "cell_type": "code",
      "source": [
        "run_query('''\n",
        "SELECT\n",
        "  subject_id,\n",
        "  hadm_id,\n",
        "  icustay_id\n",
        "FROM\n",
        "  mimic.icustays\n",
        "LIMIT 10\n",
        "''')"
      ],
      "execution_count": 24,
      "outputs": [
        {
          "output_type": "execute_result",
          "data": {
            "text/html": [
              "<div>\n",
              "<style scoped>\n",
              "    .dataframe tbody tr th:only-of-type {\n",
              "        vertical-align: middle;\n",
              "    }\n",
              "\n",
              "    .dataframe tbody tr th {\n",
              "        vertical-align: top;\n",
              "    }\n",
              "\n",
              "    .dataframe thead th {\n",
              "        text-align: right;\n",
              "    }\n",
              "</style>\n",
              "<table border=\"1\" class=\"dataframe\">\n",
              "  <thead>\n",
              "    <tr style=\"text-align: right;\">\n",
              "      <th></th>\n",
              "      <th>subject_id</th>\n",
              "      <th>hadm_id</th>\n",
              "      <th>icustay_id</th>\n",
              "    </tr>\n",
              "  </thead>\n",
              "  <tbody>\n",
              "    <tr>\n",
              "      <th>0</th>\n",
              "      <td>902</td>\n",
              "      <td>143497</td>\n",
              "      <td>271328</td>\n",
              "    </tr>\n",
              "    <tr>\n",
              "      <th>1</th>\n",
              "      <td>2369</td>\n",
              "      <td>145893</td>\n",
              "      <td>252262</td>\n",
              "    </tr>\n",
              "    <tr>\n",
              "      <th>2</th>\n",
              "      <td>2902</td>\n",
              "      <td>188351</td>\n",
              "      <td>259381</td>\n",
              "    </tr>\n",
              "    <tr>\n",
              "      <th>3</th>\n",
              "      <td>3433</td>\n",
              "      <td>128254</td>\n",
              "      <td>244799</td>\n",
              "    </tr>\n",
              "    <tr>\n",
              "      <th>4</th>\n",
              "      <td>3217</td>\n",
              "      <td>167867</td>\n",
              "      <td>287365</td>\n",
              "    </tr>\n",
              "    <tr>\n",
              "      <th>5</th>\n",
              "      <td>3952</td>\n",
              "      <td>111515</td>\n",
              "      <td>228117</td>\n",
              "    </tr>\n",
              "    <tr>\n",
              "      <th>6</th>\n",
              "      <td>5727</td>\n",
              "      <td>178576</td>\n",
              "      <td>295388</td>\n",
              "    </tr>\n",
              "    <tr>\n",
              "      <th>7</th>\n",
              "      <td>6598</td>\n",
              "      <td>128971</td>\n",
              "      <td>224911</td>\n",
              "    </tr>\n",
              "    <tr>\n",
              "      <th>8</th>\n",
              "      <td>7163</td>\n",
              "      <td>123117</td>\n",
              "      <td>259041</td>\n",
              "    </tr>\n",
              "    <tr>\n",
              "      <th>9</th>\n",
              "      <td>8920</td>\n",
              "      <td>153113</td>\n",
              "      <td>239530</td>\n",
              "    </tr>\n",
              "  </tbody>\n",
              "</table>\n",
              "</div>"
            ],
            "text/plain": [
              "   subject_id  hadm_id  icustay_id\n",
              "0         902   143497      271328\n",
              "1        2369   145893      252262\n",
              "2        2902   188351      259381\n",
              "3        3433   128254      244799\n",
              "4        3217   167867      287365\n",
              "5        3952   111515      228117\n",
              "6        5727   178576      295388\n",
              "7        6598   128971      224911\n",
              "8        7163   123117      259041\n",
              "9        8920   153113      239530"
            ]
          },
          "metadata": {
            "tags": []
          },
          "execution_count": 24
        }
      ]
    },
    {
      "metadata": {
        "id": "6LzjiNrybBHF",
        "colab_type": "text"
      },
      "cell_type": "markdown",
      "source": [
        "Enjoy!"
      ]
    }
  ]
}